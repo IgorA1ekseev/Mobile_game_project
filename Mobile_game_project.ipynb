{
 "cells": [
  {
   "cell_type": "markdown",
   "metadata": {},
   "source": [
    "## Проект: вариант 1\n",
    "Представьте, что вы работаете в компании, которая разрабатывает мобильные игры. К вам пришел менеджер с рядом задач по исследованию нескольких аспектов мобильного приложения:\n",
    "\n",
    "В первую очередь, его интересует показатель retention. Напишите функцию для его подсчета.\n",
    "Помимо этого, в компании провели A/B тестирование наборов акционных предложений. На основе имеющихся данных определите, какой набор можно считать лучшим и на основе каких метрик стоит принять правильное решение.\n",
    "Предложите метрики для оценки результатов последнего прошедшего тематического события в игре."
   ]
  },
  {
   "cell_type": "markdown",
   "metadata": {},
   "source": [
    "### Задание 1\n",
    "Retention – один из самых важных показателей в компании. Ваша задача – написать функцию, которая будет считать retention игроков (по дням от даты регистрации игрока). Данные лежат в папке shared и имеют следующую структуру:\n",
    "Функция должна быть написана на python. В ходе решения можно тестировать работу функции как на полном датасете, так и на части (сэмпле) данных."
   ]
  },
  {
   "cell_type": "code",
   "execution_count": 1,
   "metadata": {},
   "outputs": [],
   "source": [
    "import pandas as pd\n",
    "import requests\n",
    "from urllib.parse import urlencode\n",
    "\n",
    "import scipy.stats as ss\n",
    "from datetime import timedelta\n",
    "\n",
    "\n",
    "%matplotlib inline\n",
    "import seaborn as sns\n",
    "\n",
    "sns.set(rc={'figure.figsize': (12, 6)}, style=\"whitegrid\")"
   ]
  },
  {
   "cell_type": "markdown",
   "metadata": {},
   "source": [
    "### Загрузим данные:"
   ]
  },
  {
   "cell_type": "code",
   "execution_count": 2,
   "metadata": {},
   "outputs": [],
   "source": [
    "df_reg_data = pd.read_csv('/mnt/HC_Volume_18315164/home-jupyter/jupyter-igo-alekseev/shared/problem1-reg_data.csv', sep= ';')"
   ]
  },
  {
   "cell_type": "code",
   "execution_count": 3,
   "metadata": {},
   "outputs": [],
   "source": [
    "df_auth_data = pd.read_csv('/mnt/HC_Volume_18315164/home-jupyter/jupyter-igo-alekseev/shared/problem1-auth_data.csv', sep= ';')"
   ]
  },
  {
   "cell_type": "markdown",
   "metadata": {},
   "source": [
    "### Проведем EDA:"
   ]
  },
  {
   "cell_type": "code",
   "execution_count": 4,
   "metadata": {},
   "outputs": [
    {
     "data": {
      "text/html": [
       "<div>\n",
       "<style scoped>\n",
       "    .dataframe tbody tr th:only-of-type {\n",
       "        vertical-align: middle;\n",
       "    }\n",
       "\n",
       "    .dataframe tbody tr th {\n",
       "        vertical-align: top;\n",
       "    }\n",
       "\n",
       "    .dataframe thead th {\n",
       "        text-align: right;\n",
       "    }\n",
       "</style>\n",
       "<table border=\"1\" class=\"dataframe\">\n",
       "  <thead>\n",
       "    <tr style=\"text-align: right;\">\n",
       "      <th></th>\n",
       "      <th>reg_ts</th>\n",
       "      <th>uid</th>\n",
       "    </tr>\n",
       "  </thead>\n",
       "  <tbody>\n",
       "    <tr>\n",
       "      <th>0</th>\n",
       "      <td>911382223</td>\n",
       "      <td>1</td>\n",
       "    </tr>\n",
       "    <tr>\n",
       "      <th>1</th>\n",
       "      <td>932683089</td>\n",
       "      <td>2</td>\n",
       "    </tr>\n",
       "    <tr>\n",
       "      <th>2</th>\n",
       "      <td>947802447</td>\n",
       "      <td>3</td>\n",
       "    </tr>\n",
       "    <tr>\n",
       "      <th>3</th>\n",
       "      <td>959523541</td>\n",
       "      <td>4</td>\n",
       "    </tr>\n",
       "    <tr>\n",
       "      <th>4</th>\n",
       "      <td>969103313</td>\n",
       "      <td>5</td>\n",
       "    </tr>\n",
       "  </tbody>\n",
       "</table>\n",
       "</div>"
      ],
      "text/plain": [
       "      reg_ts  uid\n",
       "0  911382223    1\n",
       "1  932683089    2\n",
       "2  947802447    3\n",
       "3  959523541    4\n",
       "4  969103313    5"
      ]
     },
     "execution_count": 4,
     "metadata": {},
     "output_type": "execute_result"
    }
   ],
   "source": [
    "df_reg_data.head()"
   ]
  },
  {
   "cell_type": "code",
   "execution_count": 5,
   "metadata": {},
   "outputs": [
    {
     "data": {
      "text/plain": [
       "reg_ts    int64\n",
       "uid       int64\n",
       "dtype: object"
      ]
     },
     "execution_count": 5,
     "metadata": {},
     "output_type": "execute_result"
    }
   ],
   "source": [
    "df_reg_data.dtypes"
   ]
  },
  {
   "cell_type": "code",
   "execution_count": 6,
   "metadata": {},
   "outputs": [
    {
     "data": {
      "text/html": [
       "<div>\n",
       "<style scoped>\n",
       "    .dataframe tbody tr th:only-of-type {\n",
       "        vertical-align: middle;\n",
       "    }\n",
       "\n",
       "    .dataframe tbody tr th {\n",
       "        vertical-align: top;\n",
       "    }\n",
       "\n",
       "    .dataframe thead th {\n",
       "        text-align: right;\n",
       "    }\n",
       "</style>\n",
       "<table border=\"1\" class=\"dataframe\">\n",
       "  <thead>\n",
       "    <tr style=\"text-align: right;\">\n",
       "      <th></th>\n",
       "      <th>reg_ts</th>\n",
       "      <th>uid</th>\n",
       "    </tr>\n",
       "  </thead>\n",
       "  <tbody>\n",
       "    <tr>\n",
       "      <th>count</th>\n",
       "      <td>1.000000e+06</td>\n",
       "      <td>1.000000e+06</td>\n",
       "    </tr>\n",
       "    <tr>\n",
       "      <th>mean</th>\n",
       "      <td>1.548332e+09</td>\n",
       "      <td>5.552354e+05</td>\n",
       "    </tr>\n",
       "    <tr>\n",
       "      <th>std</th>\n",
       "      <td>5.253653e+07</td>\n",
       "      <td>3.206011e+05</td>\n",
       "    </tr>\n",
       "    <tr>\n",
       "      <th>min</th>\n",
       "      <td>9.113822e+08</td>\n",
       "      <td>1.000000e+00</td>\n",
       "    </tr>\n",
       "    <tr>\n",
       "      <th>25%</th>\n",
       "      <td>1.528034e+09</td>\n",
       "      <td>2.776438e+05</td>\n",
       "    </tr>\n",
       "    <tr>\n",
       "      <th>50%</th>\n",
       "      <td>1.564454e+09</td>\n",
       "      <td>5.550455e+05</td>\n",
       "    </tr>\n",
       "    <tr>\n",
       "      <th>75%</th>\n",
       "      <td>1.585759e+09</td>\n",
       "      <td>8.329712e+05</td>\n",
       "    </tr>\n",
       "    <tr>\n",
       "      <th>max</th>\n",
       "      <td>1.600874e+09</td>\n",
       "      <td>1.110622e+06</td>\n",
       "    </tr>\n",
       "  </tbody>\n",
       "</table>\n",
       "</div>"
      ],
      "text/plain": [
       "             reg_ts           uid\n",
       "count  1.000000e+06  1.000000e+06\n",
       "mean   1.548332e+09  5.552354e+05\n",
       "std    5.253653e+07  3.206011e+05\n",
       "min    9.113822e+08  1.000000e+00\n",
       "25%    1.528034e+09  2.776438e+05\n",
       "50%    1.564454e+09  5.550455e+05\n",
       "75%    1.585759e+09  8.329712e+05\n",
       "max    1.600874e+09  1.110622e+06"
      ]
     },
     "execution_count": 6,
     "metadata": {},
     "output_type": "execute_result"
    }
   ],
   "source": [
    "df_reg_data.describe()"
   ]
  },
  {
   "cell_type": "code",
   "execution_count": 7,
   "metadata": {},
   "outputs": [
    {
     "data": {
      "text/plain": [
       "reg_ts  uid  \n",
       "False   False    1000000\n",
       "dtype: int64"
      ]
     },
     "execution_count": 7,
     "metadata": {},
     "output_type": "execute_result"
    }
   ],
   "source": [
    "df_reg_data.isna().value_counts()"
   ]
  },
  {
   "cell_type": "code",
   "execution_count": 8,
   "metadata": {},
   "outputs": [
    {
     "data": {
      "text/plain": [
       "1000000"
      ]
     },
     "execution_count": 8,
     "metadata": {},
     "output_type": "execute_result"
    }
   ],
   "source": [
    "df_reg_data.uid.nunique()"
   ]
  },
  {
   "cell_type": "code",
   "execution_count": 9,
   "metadata": {},
   "outputs": [
    {
     "data": {
      "text/plain": [
       "(1000000, 2)"
      ]
     },
     "execution_count": 9,
     "metadata": {},
     "output_type": "execute_result"
    }
   ],
   "source": [
    "df_reg_data.shape"
   ]
  },
  {
   "cell_type": "code",
   "execution_count": 10,
   "metadata": {},
   "outputs": [
    {
     "data": {
      "text/html": [
       "<div>\n",
       "<style scoped>\n",
       "    .dataframe tbody tr th:only-of-type {\n",
       "        vertical-align: middle;\n",
       "    }\n",
       "\n",
       "    .dataframe tbody tr th {\n",
       "        vertical-align: top;\n",
       "    }\n",
       "\n",
       "    .dataframe thead th {\n",
       "        text-align: right;\n",
       "    }\n",
       "</style>\n",
       "<table border=\"1\" class=\"dataframe\">\n",
       "  <thead>\n",
       "    <tr style=\"text-align: right;\">\n",
       "      <th></th>\n",
       "      <th>auth_ts</th>\n",
       "      <th>uid</th>\n",
       "    </tr>\n",
       "  </thead>\n",
       "  <tbody>\n",
       "    <tr>\n",
       "      <th>0</th>\n",
       "      <td>911382223</td>\n",
       "      <td>1</td>\n",
       "    </tr>\n",
       "    <tr>\n",
       "      <th>1</th>\n",
       "      <td>932683089</td>\n",
       "      <td>2</td>\n",
       "    </tr>\n",
       "    <tr>\n",
       "      <th>2</th>\n",
       "      <td>932921206</td>\n",
       "      <td>2</td>\n",
       "    </tr>\n",
       "    <tr>\n",
       "      <th>3</th>\n",
       "      <td>933393015</td>\n",
       "      <td>2</td>\n",
       "    </tr>\n",
       "    <tr>\n",
       "      <th>4</th>\n",
       "      <td>933875379</td>\n",
       "      <td>2</td>\n",
       "    </tr>\n",
       "  </tbody>\n",
       "</table>\n",
       "</div>"
      ],
      "text/plain": [
       "     auth_ts  uid\n",
       "0  911382223    1\n",
       "1  932683089    2\n",
       "2  932921206    2\n",
       "3  933393015    2\n",
       "4  933875379    2"
      ]
     },
     "execution_count": 10,
     "metadata": {},
     "output_type": "execute_result"
    }
   ],
   "source": [
    "df_auth_data.head()"
   ]
  },
  {
   "cell_type": "code",
   "execution_count": 11,
   "metadata": {},
   "outputs": [
    {
     "data": {
      "text/plain": [
       "auth_ts    int64\n",
       "uid        int64\n",
       "dtype: object"
      ]
     },
     "execution_count": 11,
     "metadata": {},
     "output_type": "execute_result"
    }
   ],
   "source": [
    "df_auth_data.dtypes"
   ]
  },
  {
   "cell_type": "code",
   "execution_count": 12,
   "metadata": {},
   "outputs": [
    {
     "data": {
      "text/html": [
       "<div>\n",
       "<style scoped>\n",
       "    .dataframe tbody tr th:only-of-type {\n",
       "        vertical-align: middle;\n",
       "    }\n",
       "\n",
       "    .dataframe tbody tr th {\n",
       "        vertical-align: top;\n",
       "    }\n",
       "\n",
       "    .dataframe thead th {\n",
       "        text-align: right;\n",
       "    }\n",
       "</style>\n",
       "<table border=\"1\" class=\"dataframe\">\n",
       "  <thead>\n",
       "    <tr style=\"text-align: right;\">\n",
       "      <th></th>\n",
       "      <th>auth_ts</th>\n",
       "      <th>uid</th>\n",
       "    </tr>\n",
       "  </thead>\n",
       "  <tbody>\n",
       "    <tr>\n",
       "      <th>count</th>\n",
       "      <td>9.601013e+06</td>\n",
       "      <td>9.601013e+06</td>\n",
       "    </tr>\n",
       "    <tr>\n",
       "      <th>mean</th>\n",
       "      <td>1.548778e+09</td>\n",
       "      <td>3.347198e+05</td>\n",
       "    </tr>\n",
       "    <tr>\n",
       "      <th>std</th>\n",
       "      <td>5.160527e+07</td>\n",
       "      <td>2.832669e+05</td>\n",
       "    </tr>\n",
       "    <tr>\n",
       "      <th>min</th>\n",
       "      <td>9.113822e+08</td>\n",
       "      <td>1.000000e+00</td>\n",
       "    </tr>\n",
       "    <tr>\n",
       "      <th>25%</th>\n",
       "      <td>1.528375e+09</td>\n",
       "      <td>9.599700e+04</td>\n",
       "    </tr>\n",
       "    <tr>\n",
       "      <th>50%</th>\n",
       "      <td>1.564577e+09</td>\n",
       "      <td>2.579210e+05</td>\n",
       "    </tr>\n",
       "    <tr>\n",
       "      <th>75%</th>\n",
       "      <td>1.585823e+09</td>\n",
       "      <td>5.190250e+05</td>\n",
       "    </tr>\n",
       "    <tr>\n",
       "      <th>max</th>\n",
       "      <td>1.600874e+09</td>\n",
       "      <td>1.110622e+06</td>\n",
       "    </tr>\n",
       "  </tbody>\n",
       "</table>\n",
       "</div>"
      ],
      "text/plain": [
       "            auth_ts           uid\n",
       "count  9.601013e+06  9.601013e+06\n",
       "mean   1.548778e+09  3.347198e+05\n",
       "std    5.160527e+07  2.832669e+05\n",
       "min    9.113822e+08  1.000000e+00\n",
       "25%    1.528375e+09  9.599700e+04\n",
       "50%    1.564577e+09  2.579210e+05\n",
       "75%    1.585823e+09  5.190250e+05\n",
       "max    1.600874e+09  1.110622e+06"
      ]
     },
     "execution_count": 12,
     "metadata": {},
     "output_type": "execute_result"
    }
   ],
   "source": [
    "df_auth_data.describe()"
   ]
  },
  {
   "cell_type": "code",
   "execution_count": 13,
   "metadata": {},
   "outputs": [
    {
     "data": {
      "text/plain": [
       "auth_ts  uid  \n",
       "False    False    9601013\n",
       "dtype: int64"
      ]
     },
     "execution_count": 13,
     "metadata": {},
     "output_type": "execute_result"
    }
   ],
   "source": [
    "df_auth_data.isna().value_counts()"
   ]
  },
  {
   "cell_type": "code",
   "execution_count": 14,
   "metadata": {},
   "outputs": [
    {
     "data": {
      "text/plain": [
       "1000000"
      ]
     },
     "execution_count": 14,
     "metadata": {},
     "output_type": "execute_result"
    }
   ],
   "source": [
    "df_auth_data.uid.nunique()"
   ]
  },
  {
   "cell_type": "code",
   "execution_count": 15,
   "metadata": {},
   "outputs": [
    {
     "data": {
      "text/plain": [
       "(9601013, 2)"
      ]
     },
     "execution_count": 15,
     "metadata": {},
     "output_type": "execute_result"
    }
   ],
   "source": [
    "df_auth_data.shape"
   ]
  },
  {
   "cell_type": "code",
   "execution_count": 16,
   "metadata": {},
   "outputs": [
    {
     "data": {
      "text/plain": [
       "(9601013, 2)"
      ]
     },
     "execution_count": 16,
     "metadata": {},
     "output_type": "execute_result"
    }
   ],
   "source": [
    "df_auth_data.shape"
   ]
  },
  {
   "cell_type": "markdown",
   "metadata": {},
   "source": [
    "### Визуализируем данные:"
   ]
  },
  {
   "cell_type": "code",
   "execution_count": 17,
   "metadata": {},
   "outputs": [
    {
     "data": {
      "text/plain": [
       "<matplotlib.axes._subplots.AxesSubplot at 0x7f8f6ba5db38>"
      ]
     },
     "execution_count": 17,
     "metadata": {},
     "output_type": "execute_result"
    },
    {
     "data": {
      "image/png": "[encoded data removed]",
      "text/plain": [
       "<Figure size 864x432 with 1 Axes>"
      ]
     },
     "metadata": {},
     "output_type": "display_data"
    }
   ],
   "source": [
    "sns.histplot(x=pd.to_datetime(df_reg_data.reg_ts, unit='s'), y=\"uid\", data=df_reg_data)"
   ]
  },
  {
   "cell_type": "code",
   "execution_count": 18,
   "metadata": {},
   "outputs": [
    {
     "data": {
      "text/plain": [
       "<matplotlib.axes._subplots.AxesSubplot at 0x7f8f6b9bf940>"
      ]
     },
     "execution_count": 18,
     "metadata": {},
     "output_type": "execute_result"
    },
    {
     "data": {
      "image/png": "[encoded data removed]",
      "text/plain": [
       "<Figure size 864x432 with 1 Axes>"
      ]
     },
     "metadata": {},
     "output_type": "display_data"
    }
   ],
   "source": [
    "sns.histplot(x=pd.to_datetime(df_auth_data.auth_ts, unit='s'), y=\"uid\", data=df_auth_data)"
   ]
  },
  {
   "cell_type": "markdown",
   "metadata": {},
   "source": [
    "### Выводы по EDA:\n",
    "- даты записываются в UNIX-формате, мы это учтем при написании функции;\n",
    "- активность пользователей начала расти примерно с 14-15 года (функция с выбором интересующего периода);\n",
    "- в данных нет пропусков;\n",
    "- большой объем данных (мерджить можно не все, только интересующие)"
   ]
  },
  {
   "cell_type": "markdown",
   "metadata": {},
   "source": [
    "### Напишем функцию расчет ретеншена:\n",
    "Функция принимает 5 аргументов:\n",
    "- df_1 - датасет, загруженный и сохраненный в переменную;\n",
    "- df_2 - датасет, загруженный и сохраненный в переменную;\n",
    "- start - начало интересующего периода в формате str;\n",
    "- end - конец интересующего периода в формате str;\n",
    "- how - D, W, M в формате str, означает метод формирования когорты (день/неделя/месяц).\n",
    "\n",
    "На выходе функции имеем сводную таблицу, с расчитанным Retention Rate.\n"
   ]
  },
  {
   "cell_type": "code",
   "execution_count": 19,
   "metadata": {},
   "outputs": [
    {
     "data": {
      "text/html": [
       "<style  type=\"text/css\" >\n",
       "#T_cc524ec6_0e31_11ef_bdbb_96000040dfb6row0_col0,#T_cc524ec6_0e31_11ef_bdbb_96000040dfb6row0_col17,#T_cc524ec6_0e31_11ef_bdbb_96000040dfb6row0_col18,#T_cc524ec6_0e31_11ef_bdbb_96000040dfb6row0_col19,#T_cc524ec6_0e31_11ef_bdbb_96000040dfb6row1_col13,#T_cc524ec6_0e31_11ef_bdbb_96000040dfb6row1_col16,#T_cc524ec6_0e31_11ef_bdbb_96000040dfb6row1_col18,#T_cc524ec6_0e31_11ef_bdbb_96000040dfb6row2_col8,#T_cc524ec6_0e31_11ef_bdbb_96000040dfb6row2_col12,#T_cc524ec6_0e31_11ef_bdbb_96000040dfb6row2_col14,#T_cc524ec6_0e31_11ef_bdbb_96000040dfb6row2_col17,#T_cc524ec6_0e31_11ef_bdbb_96000040dfb6row3_col1,#T_cc524ec6_0e31_11ef_bdbb_96000040dfb6row3_col9,#T_cc524ec6_0e31_11ef_bdbb_96000040dfb6row3_col10,#T_cc524ec6_0e31_11ef_bdbb_96000040dfb6row3_col15,#T_cc524ec6_0e31_11ef_bdbb_96000040dfb6row3_col16,#T_cc524ec6_0e31_11ef_bdbb_96000040dfb6row4_col5,#T_cc524ec6_0e31_11ef_bdbb_96000040dfb6row4_col6,#T_cc524ec6_0e31_11ef_bdbb_96000040dfb6row4_col11,#T_cc524ec6_0e31_11ef_bdbb_96000040dfb6row4_col15,#T_cc524ec6_0e31_11ef_bdbb_96000040dfb6row5_col4,#T_cc524ec6_0e31_11ef_bdbb_96000040dfb6row5_col14,#T_cc524ec6_0e31_11ef_bdbb_96000040dfb6row6_col7,#T_cc524ec6_0e31_11ef_bdbb_96000040dfb6row6_col13,#T_cc524ec6_0e31_11ef_bdbb_96000040dfb6row7_col12,#T_cc524ec6_0e31_11ef_bdbb_96000040dfb6row8_col2,#T_cc524ec6_0e31_11ef_bdbb_96000040dfb6row8_col11,#T_cc524ec6_0e31_11ef_bdbb_96000040dfb6row9_col10,#T_cc524ec6_0e31_11ef_bdbb_96000040dfb6row10_col9,#T_cc524ec6_0e31_11ef_bdbb_96000040dfb6row11_col3,#T_cc524ec6_0e31_11ef_bdbb_96000040dfb6row11_col8,#T_cc524ec6_0e31_11ef_bdbb_96000040dfb6row12_col7,#T_cc524ec6_0e31_11ef_bdbb_96000040dfb6row13_col6,#T_cc524ec6_0e31_11ef_bdbb_96000040dfb6row14_col5,#T_cc524ec6_0e31_11ef_bdbb_96000040dfb6row15_col4,#T_cc524ec6_0e31_11ef_bdbb_96000040dfb6row16_col3,#T_cc524ec6_0e31_11ef_bdbb_96000040dfb6row17_col2,#T_cc524ec6_0e31_11ef_bdbb_96000040dfb6row18_col0,#T_cc524ec6_0e31_11ef_bdbb_96000040dfb6row18_col1{\n",
       "            background-color:  #e2d9e2;\n",
       "            color:  #000000;\n",
       "        }#T_cc524ec6_0e31_11ef_bdbb_96000040dfb6row0_col1{\n",
       "            background-color:  #983550;\n",
       "            color:  #f1f1f1;\n",
       "        }#T_cc524ec6_0e31_11ef_bdbb_96000040dfb6row0_col2,#T_cc524ec6_0e31_11ef_bdbb_96000040dfb6row16_col1{\n",
       "            background-color:  #c1775f;\n",
       "            color:  #000000;\n",
       "        }#T_cc524ec6_0e31_11ef_bdbb_96000040dfb6row0_col3,#T_cc524ec6_0e31_11ef_bdbb_96000040dfb6row14_col4{\n",
       "            background-color:  #832550;\n",
       "            color:  #f1f1f1;\n",
       "        }#T_cc524ec6_0e31_11ef_bdbb_96000040dfb6row0_col4{\n",
       "            background-color:  #9a3750;\n",
       "            color:  #f1f1f1;\n",
       "        }#T_cc524ec6_0e31_11ef_bdbb_96000040dfb6row0_col5{\n",
       "            background-color:  #dbccc8;\n",
       "            color:  #000000;\n",
       "        }#T_cc524ec6_0e31_11ef_bdbb_96000040dfb6row0_col6{\n",
       "            background-color:  #c89174;\n",
       "            color:  #000000;\n",
       "        }#T_cc524ec6_0e31_11ef_bdbb_96000040dfb6row0_col7,#T_cc524ec6_0e31_11ef_bdbb_96000040dfb6row13_col5{\n",
       "            background-color:  #9e3b50;\n",
       "            color:  #f1f1f1;\n",
       "        }#T_cc524ec6_0e31_11ef_bdbb_96000040dfb6row0_col8{\n",
       "            background-color:  #912f50;\n",
       "            color:  #f1f1f1;\n",
       "        }#T_cc524ec6_0e31_11ef_bdbb_96000040dfb6row0_col9,#T_cc524ec6_0e31_11ef_bdbb_96000040dfb6row12_col1{\n",
       "            background-color:  #b45a53;\n",
       "            color:  #000000;\n",
       "        }#T_cc524ec6_0e31_11ef_bdbb_96000040dfb6row0_col10{\n",
       "            background-color:  #e0d7da;\n",
       "            color:  #000000;\n",
       "        }#T_cc524ec6_0e31_11ef_bdbb_96000040dfb6row0_col11,#T_cc524ec6_0e31_11ef_bdbb_96000040dfb6row3_col8,#T_cc524ec6_0e31_11ef_bdbb_96000040dfb6row8_col7{\n",
       "            background-color:  #b86155;\n",
       "            color:  #000000;\n",
       "        }#T_cc524ec6_0e31_11ef_bdbb_96000040dfb6row0_col12,#T_cc524ec6_0e31_11ef_bdbb_96000040dfb6row8_col6,#T_cc524ec6_0e31_11ef_bdbb_96000040dfb6row10_col1{\n",
       "            background-color:  #c37d63;\n",
       "            color:  #000000;\n",
       "        }#T_cc524ec6_0e31_11ef_bdbb_96000040dfb6row0_col13{\n",
       "            background-color:  #d0b09b;\n",
       "            color:  #000000;\n",
       "        }#T_cc524ec6_0e31_11ef_bdbb_96000040dfb6row0_col14{\n",
       "            background-color:  #c17960;\n",
       "            color:  #000000;\n",
       "        }#T_cc524ec6_0e31_11ef_bdbb_96000040dfb6row0_col15{\n",
       "            background-color:  #c58468;\n",
       "            color:  #000000;\n",
       "        }#T_cc524ec6_0e31_11ef_bdbb_96000040dfb6row0_col16,#T_cc524ec6_0e31_11ef_bdbb_96000040dfb6row1_col15{\n",
       "            background-color:  #d1b5a1;\n",
       "            color:  #000000;\n",
       "        }#T_cc524ec6_0e31_11ef_bdbb_96000040dfb6row1_col0{\n",
       "            background-color:  #c4ced4;\n",
       "            color:  #000000;\n",
       "        }#T_cc524ec6_0e31_11ef_bdbb_96000040dfb6row1_col1,#T_cc524ec6_0e31_11ef_bdbb_96000040dfb6row10_col4{\n",
       "            background-color:  #d7c4b9;\n",
       "            color:  #000000;\n",
       "        }#T_cc524ec6_0e31_11ef_bdbb_96000040dfb6row1_col2{\n",
       "            background-color:  #bd6c5a;\n",
       "            color:  #000000;\n",
       "        }#T_cc524ec6_0e31_11ef_bdbb_96000040dfb6row1_col3{\n",
       "            background-color:  #c89275;\n",
       "            color:  #000000;\n",
       "        }#T_cc524ec6_0e31_11ef_bdbb_96000040dfb6row1_col4,#T_cc524ec6_0e31_11ef_bdbb_96000040dfb6row12_col3,#T_cc524ec6_0e31_11ef_bdbb_96000040dfb6row17_col1{\n",
       "            background-color:  #b65d54;\n",
       "            color:  #000000;\n",
       "        }#T_cc524ec6_0e31_11ef_bdbb_96000040dfb6row1_col5{\n",
       "            background-color:  #dbcbc6;\n",
       "            color:  #000000;\n",
       "        }#T_cc524ec6_0e31_11ef_bdbb_96000040dfb6row1_col6{\n",
       "            background-color:  #ad4e51;\n",
       "            color:  #f1f1f1;\n",
       "        }#T_cc524ec6_0e31_11ef_bdbb_96000040dfb6row1_col7{\n",
       "            background-color:  #ae5051;\n",
       "            color:  #f1f1f1;\n",
       "        }#T_cc524ec6_0e31_11ef_bdbb_96000040dfb6row1_col8{\n",
       "            background-color:  #c58569;\n",
       "            color:  #000000;\n",
       "        }#T_cc524ec6_0e31_11ef_bdbb_96000040dfb6row1_col9{\n",
       "            background-color:  #d4bcac;\n",
       "            color:  #000000;\n",
       "        }#T_cc524ec6_0e31_11ef_bdbb_96000040dfb6row1_col10,#T_cc524ec6_0e31_11ef_bdbb_96000040dfb6row2_col7,#T_cc524ec6_0e31_11ef_bdbb_96000040dfb6row12_col4{\n",
       "            background-color:  #dccdca;\n",
       "            color:  #000000;\n",
       "        }#T_cc524ec6_0e31_11ef_bdbb_96000040dfb6row1_col11,#T_cc524ec6_0e31_11ef_bdbb_96000040dfb6row2_col10{\n",
       "            background-color:  #b75f55;\n",
       "            color:  #000000;\n",
       "        }#T_cc524ec6_0e31_11ef_bdbb_96000040dfb6row1_col12,#T_cc524ec6_0e31_11ef_bdbb_96000040dfb6row5_col8,#T_cc524ec6_0e31_11ef_bdbb_96000040dfb6row7_col5{\n",
       "            background-color:  #721d4f;\n",
       "            color:  #f1f1f1;\n",
       "        }#T_cc524ec6_0e31_11ef_bdbb_96000040dfb6row1_col14{\n",
       "            background-color:  #cca389;\n",
       "            color:  #000000;\n",
       "        }#T_cc524ec6_0e31_11ef_bdbb_96000040dfb6row1_col17,#T_cc524ec6_0e31_11ef_bdbb_96000040dfb6row6_col6,#T_cc524ec6_0e31_11ef_bdbb_96000040dfb6row14_col0{\n",
       "            background-color:  #b96356;\n",
       "            color:  #000000;\n",
       "        }#T_cc524ec6_0e31_11ef_bdbb_96000040dfb6row1_col19,#T_cc524ec6_0e31_11ef_bdbb_96000040dfb6row2_col19,#T_cc524ec6_0e31_11ef_bdbb_96000040dfb6row3_col19,#T_cc524ec6_0e31_11ef_bdbb_96000040dfb6row4_col19,#T_cc524ec6_0e31_11ef_bdbb_96000040dfb6row5_col19,#T_cc524ec6_0e31_11ef_bdbb_96000040dfb6row6_col19,#T_cc524ec6_0e31_11ef_bdbb_96000040dfb6row7_col19,#T_cc524ec6_0e31_11ef_bdbb_96000040dfb6row8_col19,#T_cc524ec6_0e31_11ef_bdbb_96000040dfb6row9_col19,#T_cc524ec6_0e31_11ef_bdbb_96000040dfb6row10_col19,#T_cc524ec6_0e31_11ef_bdbb_96000040dfb6row11_col19,#T_cc524ec6_0e31_11ef_bdbb_96000040dfb6row12_col19,#T_cc524ec6_0e31_11ef_bdbb_96000040dfb6row13_col19,#T_cc524ec6_0e31_11ef_bdbb_96000040dfb6row14_col19,#T_cc524ec6_0e31_11ef_bdbb_96000040dfb6row15_col19,#T_cc524ec6_0e31_11ef_bdbb_96000040dfb6row16_col19,#T_cc524ec6_0e31_11ef_bdbb_96000040dfb6row17_col19,#T_cc524ec6_0e31_11ef_bdbb_96000040dfb6row18_col19{\n",
       "            background-color:  #e2d9e2;\n",
       "            color:  #000000;\n",
       "            background-color:  white;\n",
       "        }#T_cc524ec6_0e31_11ef_bdbb_96000040dfb6row2_col0{\n",
       "            background-color:  #95b5c7;\n",
       "            color:  #000000;\n",
       "        }#T_cc524ec6_0e31_11ef_bdbb_96000040dfb6row2_col1{\n",
       "            background-color:  #dacac3;\n",
       "            color:  #000000;\n",
       "        }#T_cc524ec6_0e31_11ef_bdbb_96000040dfb6row2_col2{\n",
       "            background-color:  #e0d7db;\n",
       "            color:  #000000;\n",
       "        }#T_cc524ec6_0e31_11ef_bdbb_96000040dfb6row2_col3,#T_cc524ec6_0e31_11ef_bdbb_96000040dfb6row17_col0{\n",
       "            background-color:  #d8c7be;\n",
       "            color:  #000000;\n",
       "        }#T_cc524ec6_0e31_11ef_bdbb_96000040dfb6row2_col4{\n",
       "            background-color:  #c48065;\n",
       "            color:  #000000;\n",
       "        }#T_cc524ec6_0e31_11ef_bdbb_96000040dfb6row2_col5{\n",
       "            background-color:  #b05351;\n",
       "            color:  #f1f1f1;\n",
       "        }#T_cc524ec6_0e31_11ef_bdbb_96000040dfb6row2_col6{\n",
       "            background-color:  #cca58b;\n",
       "            color:  #000000;\n",
       "        }#T_cc524ec6_0e31_11ef_bdbb_96000040dfb6row2_col9,#T_cc524ec6_0e31_11ef_bdbb_96000040dfb6row2_col11,#T_cc524ec6_0e31_11ef_bdbb_96000040dfb6row3_col11,#T_cc524ec6_0e31_11ef_bdbb_96000040dfb6row14_col2{\n",
       "            background-color:  #b35752;\n",
       "            color:  #000000;\n",
       "        }#T_cc524ec6_0e31_11ef_bdbb_96000040dfb6row2_col13,#T_cc524ec6_0e31_11ef_bdbb_96000040dfb6row5_col3,#T_cc524ec6_0e31_11ef_bdbb_96000040dfb6row8_col9{\n",
       "            background-color:  #cda68c;\n",
       "            color:  #000000;\n",
       "        }#T_cc524ec6_0e31_11ef_bdbb_96000040dfb6row2_col15{\n",
       "            background-color:  #d4bdad;\n",
       "            color:  #000000;\n",
       "        }#T_cc524ec6_0e31_11ef_bdbb_96000040dfb6row2_col16{\n",
       "            background-color:  #802350;\n",
       "            color:  #f1f1f1;\n",
       "        }#T_cc524ec6_0e31_11ef_bdbb_96000040dfb6row2_col18,#T_cc524ec6_0e31_11ef_bdbb_96000040dfb6row3_col17,#T_cc524ec6_0e31_11ef_bdbb_96000040dfb6row3_col18,#T_cc524ec6_0e31_11ef_bdbb_96000040dfb6row4_col16,#T_cc524ec6_0e31_11ef_bdbb_96000040dfb6row4_col17,#T_cc524ec6_0e31_11ef_bdbb_96000040dfb6row4_col18,#T_cc524ec6_0e31_11ef_bdbb_96000040dfb6row5_col15,#T_cc524ec6_0e31_11ef_bdbb_96000040dfb6row5_col16,#T_cc524ec6_0e31_11ef_bdbb_96000040dfb6row5_col17,#T_cc524ec6_0e31_11ef_bdbb_96000040dfb6row5_col18,#T_cc524ec6_0e31_11ef_bdbb_96000040dfb6row6_col14,#T_cc524ec6_0e31_11ef_bdbb_96000040dfb6row6_col15,#T_cc524ec6_0e31_11ef_bdbb_96000040dfb6row6_col16,#T_cc524ec6_0e31_11ef_bdbb_96000040dfb6row6_col17,#T_cc524ec6_0e31_11ef_bdbb_96000040dfb6row6_col18,#T_cc524ec6_0e31_11ef_bdbb_96000040dfb6row7_col13,#T_cc524ec6_0e31_11ef_bdbb_96000040dfb6row7_col14,#T_cc524ec6_0e31_11ef_bdbb_96000040dfb6row7_col15,#T_cc524ec6_0e31_11ef_bdbb_96000040dfb6row7_col16,#T_cc524ec6_0e31_11ef_bdbb_96000040dfb6row7_col17,#T_cc524ec6_0e31_11ef_bdbb_96000040dfb6row7_col18,#T_cc524ec6_0e31_11ef_bdbb_96000040dfb6row8_col12,#T_cc524ec6_0e31_11ef_bdbb_96000040dfb6row8_col13,#T_cc524ec6_0e31_11ef_bdbb_96000040dfb6row8_col14,#T_cc524ec6_0e31_11ef_bdbb_96000040dfb6row8_col15,#T_cc524ec6_0e31_11ef_bdbb_96000040dfb6row8_col16,#T_cc524ec6_0e31_11ef_bdbb_96000040dfb6row8_col17,#T_cc524ec6_0e31_11ef_bdbb_96000040dfb6row8_col18,#T_cc524ec6_0e31_11ef_bdbb_96000040dfb6row9_col11,#T_cc524ec6_0e31_11ef_bdbb_96000040dfb6row9_col12,#T_cc524ec6_0e31_11ef_bdbb_96000040dfb6row9_col13,#T_cc524ec6_0e31_11ef_bdbb_96000040dfb6row9_col14,#T_cc524ec6_0e31_11ef_bdbb_96000040dfb6row9_col15,#T_cc524ec6_0e31_11ef_bdbb_96000040dfb6row9_col16,#T_cc524ec6_0e31_11ef_bdbb_96000040dfb6row9_col17,#T_cc524ec6_0e31_11ef_bdbb_96000040dfb6row9_col18,#T_cc524ec6_0e31_11ef_bdbb_96000040dfb6row10_col10,#T_cc524ec6_0e31_11ef_bdbb_96000040dfb6row10_col11,#T_cc524ec6_0e31_11ef_bdbb_96000040dfb6row10_col12,#T_cc524ec6_0e31_11ef_bdbb_96000040dfb6row10_col13,#T_cc524ec6_0e31_11ef_bdbb_96000040dfb6row10_col14,#T_cc524ec6_0e31_11ef_bdbb_96000040dfb6row10_col15,#T_cc524ec6_0e31_11ef_bdbb_96000040dfb6row10_col16,#T_cc524ec6_0e31_11ef_bdbb_96000040dfb6row10_col17,#T_cc524ec6_0e31_11ef_bdbb_96000040dfb6row10_col18,#T_cc524ec6_0e31_11ef_bdbb_96000040dfb6row11_col9,#T_cc524ec6_0e31_11ef_bdbb_96000040dfb6row11_col10,#T_cc524ec6_0e31_11ef_bdbb_96000040dfb6row11_col11,#T_cc524ec6_0e31_11ef_bdbb_96000040dfb6row11_col12,#T_cc524ec6_0e31_11ef_bdbb_96000040dfb6row11_col13,#T_cc524ec6_0e31_11ef_bdbb_96000040dfb6row11_col14,#T_cc524ec6_0e31_11ef_bdbb_96000040dfb6row11_col15,#T_cc524ec6_0e31_11ef_bdbb_96000040dfb6row11_col16,#T_cc524ec6_0e31_11ef_bdbb_96000040dfb6row11_col17,#T_cc524ec6_0e31_11ef_bdbb_96000040dfb6row11_col18,#T_cc524ec6_0e31_11ef_bdbb_96000040dfb6row12_col8,#T_cc524ec6_0e31_11ef_bdbb_96000040dfb6row12_col9,#T_cc524ec6_0e31_11ef_bdbb_96000040dfb6row12_col10,#T_cc524ec6_0e31_11ef_bdbb_96000040dfb6row12_col11,#T_cc524ec6_0e31_11ef_bdbb_96000040dfb6row12_col12,#T_cc524ec6_0e31_11ef_bdbb_96000040dfb6row12_col13,#T_cc524ec6_0e31_11ef_bdbb_96000040dfb6row12_col14,#T_cc524ec6_0e31_11ef_bdbb_96000040dfb6row12_col15,#T_cc524ec6_0e31_11ef_bdbb_96000040dfb6row12_col16,#T_cc524ec6_0e31_11ef_bdbb_96000040dfb6row12_col17,#T_cc524ec6_0e31_11ef_bdbb_96000040dfb6row12_col18,#T_cc524ec6_0e31_11ef_bdbb_96000040dfb6row13_col7,#T_cc524ec6_0e31_11ef_bdbb_96000040dfb6row13_col8,#T_cc524ec6_0e31_11ef_bdbb_96000040dfb6row13_col9,#T_cc524ec6_0e31_11ef_bdbb_96000040dfb6row13_col10,#T_cc524ec6_0e31_11ef_bdbb_96000040dfb6row13_col11,#T_cc524ec6_0e31_11ef_bdbb_96000040dfb6row13_col12,#T_cc524ec6_0e31_11ef_bdbb_96000040dfb6row13_col13,#T_cc524ec6_0e31_11ef_bdbb_96000040dfb6row13_col14,#T_cc524ec6_0e31_11ef_bdbb_96000040dfb6row13_col15,#T_cc524ec6_0e31_11ef_bdbb_96000040dfb6row13_col16,#T_cc524ec6_0e31_11ef_bdbb_96000040dfb6row13_col17,#T_cc524ec6_0e31_11ef_bdbb_96000040dfb6row13_col18,#T_cc524ec6_0e31_11ef_bdbb_96000040dfb6row14_col6,#T_cc524ec6_0e31_11ef_bdbb_96000040dfb6row14_col7,#T_cc524ec6_0e31_11ef_bdbb_96000040dfb6row14_col8,#T_cc524ec6_0e31_11ef_bdbb_96000040dfb6row14_col9,#T_cc524ec6_0e31_11ef_bdbb_96000040dfb6row14_col10,#T_cc524ec6_0e31_11ef_bdbb_96000040dfb6row14_col11,#T_cc524ec6_0e31_11ef_bdbb_96000040dfb6row14_col12,#T_cc524ec6_0e31_11ef_bdbb_96000040dfb6row14_col13,#T_cc524ec6_0e31_11ef_bdbb_96000040dfb6row14_col14,#T_cc524ec6_0e31_11ef_bdbb_96000040dfb6row14_col15,#T_cc524ec6_0e31_11ef_bdbb_96000040dfb6row14_col16,#T_cc524ec6_0e31_11ef_bdbb_96000040dfb6row14_col17,#T_cc524ec6_0e31_11ef_bdbb_96000040dfb6row14_col18,#T_cc524ec6_0e31_11ef_bdbb_96000040dfb6row15_col5,#T_cc524ec6_0e31_11ef_bdbb_96000040dfb6row15_col6,#T_cc524ec6_0e31_11ef_bdbb_96000040dfb6row15_col7,#T_cc524ec6_0e31_11ef_bdbb_96000040dfb6row15_col8,#T_cc524ec6_0e31_11ef_bdbb_96000040dfb6row15_col9,#T_cc524ec6_0e31_11ef_bdbb_96000040dfb6row15_col10,#T_cc524ec6_0e31_11ef_bdbb_96000040dfb6row15_col11,#T_cc524ec6_0e31_11ef_bdbb_96000040dfb6row15_col12,#T_cc524ec6_0e31_11ef_bdbb_96000040dfb6row15_col13,#T_cc524ec6_0e31_11ef_bdbb_96000040dfb6row15_col14,#T_cc524ec6_0e31_11ef_bdbb_96000040dfb6row15_col15,#T_cc524ec6_0e31_11ef_bdbb_96000040dfb6row15_col16,#T_cc524ec6_0e31_11ef_bdbb_96000040dfb6row15_col17,#T_cc524ec6_0e31_11ef_bdbb_96000040dfb6row15_col18,#T_cc524ec6_0e31_11ef_bdbb_96000040dfb6row16_col4,#T_cc524ec6_0e31_11ef_bdbb_96000040dfb6row16_col5,#T_cc524ec6_0e31_11ef_bdbb_96000040dfb6row16_col6,#T_cc524ec6_0e31_11ef_bdbb_96000040dfb6row16_col7,#T_cc524ec6_0e31_11ef_bdbb_96000040dfb6row16_col8,#T_cc524ec6_0e31_11ef_bdbb_96000040dfb6row16_col9,#T_cc524ec6_0e31_11ef_bdbb_96000040dfb6row16_col10,#T_cc524ec6_0e31_11ef_bdbb_96000040dfb6row16_col11,#T_cc524ec6_0e31_11ef_bdbb_96000040dfb6row16_col12,#T_cc524ec6_0e31_11ef_bdbb_96000040dfb6row16_col13,#T_cc524ec6_0e31_11ef_bdbb_96000040dfb6row16_col14,#T_cc524ec6_0e31_11ef_bdbb_96000040dfb6row16_col15,#T_cc524ec6_0e31_11ef_bdbb_96000040dfb6row16_col16,#T_cc524ec6_0e31_11ef_bdbb_96000040dfb6row16_col17,#T_cc524ec6_0e31_11ef_bdbb_96000040dfb6row16_col18,#T_cc524ec6_0e31_11ef_bdbb_96000040dfb6row17_col3,#T_cc524ec6_0e31_11ef_bdbb_96000040dfb6row17_col4,#T_cc524ec6_0e31_11ef_bdbb_96000040dfb6row17_col5,#T_cc524ec6_0e31_11ef_bdbb_96000040dfb6row17_col6,#T_cc524ec6_0e31_11ef_bdbb_96000040dfb6row17_col7,#T_cc524ec6_0e31_11ef_bdbb_96000040dfb6row17_col8,#T_cc524ec6_0e31_11ef_bdbb_96000040dfb6row17_col9,#T_cc524ec6_0e31_11ef_bdbb_96000040dfb6row17_col10,#T_cc524ec6_0e31_11ef_bdbb_96000040dfb6row17_col11,#T_cc524ec6_0e31_11ef_bdbb_96000040dfb6row17_col12,#T_cc524ec6_0e31_11ef_bdbb_96000040dfb6row17_col13,#T_cc524ec6_0e31_11ef_bdbb_96000040dfb6row17_col14,#T_cc524ec6_0e31_11ef_bdbb_96000040dfb6row17_col15,#T_cc524ec6_0e31_11ef_bdbb_96000040dfb6row17_col16,#T_cc524ec6_0e31_11ef_bdbb_96000040dfb6row17_col17,#T_cc524ec6_0e31_11ef_bdbb_96000040dfb6row17_col18,#T_cc524ec6_0e31_11ef_bdbb_96000040dfb6row18_col2,#T_cc524ec6_0e31_11ef_bdbb_96000040dfb6row18_col3,#T_cc524ec6_0e31_11ef_bdbb_96000040dfb6row18_col4,#T_cc524ec6_0e31_11ef_bdbb_96000040dfb6row18_col5,#T_cc524ec6_0e31_11ef_bdbb_96000040dfb6row18_col6,#T_cc524ec6_0e31_11ef_bdbb_96000040dfb6row18_col7,#T_cc524ec6_0e31_11ef_bdbb_96000040dfb6row18_col8,#T_cc524ec6_0e31_11ef_bdbb_96000040dfb6row18_col9,#T_cc524ec6_0e31_11ef_bdbb_96000040dfb6row18_col10,#T_cc524ec6_0e31_11ef_bdbb_96000040dfb6row18_col11,#T_cc524ec6_0e31_11ef_bdbb_96000040dfb6row18_col12,#T_cc524ec6_0e31_11ef_bdbb_96000040dfb6row18_col13,#T_cc524ec6_0e31_11ef_bdbb_96000040dfb6row18_col14,#T_cc524ec6_0e31_11ef_bdbb_96000040dfb6row18_col15,#T_cc524ec6_0e31_11ef_bdbb_96000040dfb6row18_col16,#T_cc524ec6_0e31_11ef_bdbb_96000040dfb6row18_col17,#T_cc524ec6_0e31_11ef_bdbb_96000040dfb6row18_col18{\n",
       "            background-color:  #000000;\n",
       "            color:  #f1f1f1;\n",
       "            background-color:  white;\n",
       "        }#T_cc524ec6_0e31_11ef_bdbb_96000040dfb6row3_col0{\n",
       "            background-color:  #7ba1c2;\n",
       "            color:  #000000;\n",
       "        }#T_cc524ec6_0e31_11ef_bdbb_96000040dfb6row3_col2{\n",
       "            background-color:  #cca287;\n",
       "            color:  #000000;\n",
       "        }#T_cc524ec6_0e31_11ef_bdbb_96000040dfb6row3_col3{\n",
       "            background-color:  #c6876b;\n",
       "            color:  #000000;\n",
       "        }#T_cc524ec6_0e31_11ef_bdbb_96000040dfb6row3_col4{\n",
       "            background-color:  #dacbc5;\n",
       "            color:  #000000;\n",
       "        }#T_cc524ec6_0e31_11ef_bdbb_96000040dfb6row3_col5,#T_cc524ec6_0e31_11ef_bdbb_96000040dfb6row6_col4,#T_cc524ec6_0e31_11ef_bdbb_96000040dfb6row6_col9{\n",
       "            background-color:  #ca997c;\n",
       "            color:  #000000;\n",
       "        }#T_cc524ec6_0e31_11ef_bdbb_96000040dfb6row3_col6{\n",
       "            background-color:  #9d3a50;\n",
       "            color:  #f1f1f1;\n",
       "        }#T_cc524ec6_0e31_11ef_bdbb_96000040dfb6row3_col7,#T_cc524ec6_0e31_11ef_bdbb_96000040dfb6row5_col5,#T_cc524ec6_0e31_11ef_bdbb_96000040dfb6row15_col2,#T_cc524ec6_0e31_11ef_bdbb_96000040dfb6row16_col2{\n",
       "            background-color:  #a74650;\n",
       "            color:  #f1f1f1;\n",
       "        }#T_cc524ec6_0e31_11ef_bdbb_96000040dfb6row3_col12,#T_cc524ec6_0e31_11ef_bdbb_96000040dfb6row10_col6{\n",
       "            background-color:  #c9977b;\n",
       "            color:  #000000;\n",
       "        }#T_cc524ec6_0e31_11ef_bdbb_96000040dfb6row3_col13,#T_cc524ec6_0e31_11ef_bdbb_96000040dfb6row13_col2{\n",
       "            background-color:  #c27c63;\n",
       "            color:  #000000;\n",
       "        }#T_cc524ec6_0e31_11ef_bdbb_96000040dfb6row3_col14{\n",
       "            background-color:  #a54450;\n",
       "            color:  #f1f1f1;\n",
       "        }#T_cc524ec6_0e31_11ef_bdbb_96000040dfb6row4_col0{\n",
       "            background-color:  #6682bd;\n",
       "            color:  #000000;\n",
       "        }#T_cc524ec6_0e31_11ef_bdbb_96000040dfb6row4_col1,#T_cc524ec6_0e31_11ef_bdbb_96000040dfb6row5_col6{\n",
       "            background-color:  #a34150;\n",
       "            color:  #f1f1f1;\n",
       "        }#T_cc524ec6_0e31_11ef_bdbb_96000040dfb6row4_col2{\n",
       "            background-color:  #9b3850;\n",
       "            color:  #f1f1f1;\n",
       "        }#T_cc524ec6_0e31_11ef_bdbb_96000040dfb6row4_col3{\n",
       "            background-color:  #b15552;\n",
       "            color:  #000000;\n",
       "        }#T_cc524ec6_0e31_11ef_bdbb_96000040dfb6row4_col4{\n",
       "            background-color:  #c78c6f;\n",
       "            color:  #000000;\n",
       "        }#T_cc524ec6_0e31_11ef_bdbb_96000040dfb6row4_col7{\n",
       "            background-color:  #c5866a;\n",
       "            color:  #000000;\n",
       "        }#T_cc524ec6_0e31_11ef_bdbb_96000040dfb6row4_col8,#T_cc524ec6_0e31_11ef_bdbb_96000040dfb6row5_col2{\n",
       "            background-color:  #c27b62;\n",
       "            color:  #000000;\n",
       "        }#T_cc524ec6_0e31_11ef_bdbb_96000040dfb6row4_col9{\n",
       "            background-color:  #cea991;\n",
       "            color:  #000000;\n",
       "        }#T_cc524ec6_0e31_11ef_bdbb_96000040dfb6row4_col10{\n",
       "            background-color:  #dfd4d7;\n",
       "            color:  #000000;\n",
       "        }#T_cc524ec6_0e31_11ef_bdbb_96000040dfb6row4_col12{\n",
       "            background-color:  #ded2d2;\n",
       "            color:  #000000;\n",
       "        }#T_cc524ec6_0e31_11ef_bdbb_96000040dfb6row4_col13{\n",
       "            background-color:  #c68b6e;\n",
       "            color:  #000000;\n",
       "        }#T_cc524ec6_0e31_11ef_bdbb_96000040dfb6row4_col14{\n",
       "            background-color:  #b55b53;\n",
       "            color:  #000000;\n",
       "        }#T_cc524ec6_0e31_11ef_bdbb_96000040dfb6row5_col0{\n",
       "            background-color:  #5f5eb3;\n",
       "            color:  #f1f1f1;\n",
       "        }#T_cc524ec6_0e31_11ef_bdbb_96000040dfb6row5_col1{\n",
       "            background-color:  #361141;\n",
       "            color:  #f1f1f1;\n",
       "        }#T_cc524ec6_0e31_11ef_bdbb_96000040dfb6row5_col7,#T_cc524ec6_0e31_11ef_bdbb_96000040dfb6row13_col3{\n",
       "            background-color:  #cb9d82;\n",
       "            color:  #000000;\n",
       "        }#T_cc524ec6_0e31_11ef_bdbb_96000040dfb6row5_col9{\n",
       "            background-color:  #b15452;\n",
       "            color:  #f1f1f1;\n",
       "        }#T_cc524ec6_0e31_11ef_bdbb_96000040dfb6row5_col10{\n",
       "            background-color:  #5c1749;\n",
       "            color:  #f1f1f1;\n",
       "        }#T_cc524ec6_0e31_11ef_bdbb_96000040dfb6row5_col11{\n",
       "            background-color:  #ceac94;\n",
       "            color:  #000000;\n",
       "        }#T_cc524ec6_0e31_11ef_bdbb_96000040dfb6row5_col12{\n",
       "            background-color:  #63184b;\n",
       "            color:  #f1f1f1;\n",
       "        }#T_cc524ec6_0e31_11ef_bdbb_96000040dfb6row5_col13{\n",
       "            background-color:  #a03e50;\n",
       "            color:  #f1f1f1;\n",
       "        }#T_cc524ec6_0e31_11ef_bdbb_96000040dfb6row6_col0{\n",
       "            background-color:  #5e43a5;\n",
       "            color:  #f1f1f1;\n",
       "        }#T_cc524ec6_0e31_11ef_bdbb_96000040dfb6row6_col1,#T_cc524ec6_0e31_11ef_bdbb_96000040dfb6row7_col9{\n",
       "            background-color:  #be705b;\n",
       "            color:  #000000;\n",
       "        }#T_cc524ec6_0e31_11ef_bdbb_96000040dfb6row6_col2{\n",
       "            background-color:  #bb6857;\n",
       "            color:  #000000;\n",
       "        }#T_cc524ec6_0e31_11ef_bdbb_96000040dfb6row6_col3{\n",
       "            background-color:  #c0745d;\n",
       "            color:  #000000;\n",
       "        }#T_cc524ec6_0e31_11ef_bdbb_96000040dfb6row6_col5{\n",
       "            background-color:  #c68a6d;\n",
       "            color:  #000000;\n",
       "        }#T_cc524ec6_0e31_11ef_bdbb_96000040dfb6row6_col8{\n",
       "            background-color:  #8d2b50;\n",
       "            color:  #f1f1f1;\n",
       "        }#T_cc524ec6_0e31_11ef_bdbb_96000040dfb6row6_col10,#T_cc524ec6_0e31_11ef_bdbb_96000040dfb6row6_col12{\n",
       "            background-color:  #c89477;\n",
       "            color:  #000000;\n",
       "        }#T_cc524ec6_0e31_11ef_bdbb_96000040dfb6row6_col11{\n",
       "            background-color:  #be6f5b;\n",
       "            color:  #000000;\n",
       "        }#T_cc524ec6_0e31_11ef_bdbb_96000040dfb6row7_col0{\n",
       "            background-color:  #552081;\n",
       "            color:  #f1f1f1;\n",
       "        }#T_cc524ec6_0e31_11ef_bdbb_96000040dfb6row7_col1{\n",
       "            background-color:  #311337;\n",
       "            color:  #f1f1f1;\n",
       "        }#T_cc524ec6_0e31_11ef_bdbb_96000040dfb6row7_col2,#T_cc524ec6_0e31_11ef_bdbb_96000040dfb6row13_col4{\n",
       "            background-color:  #cb9f83;\n",
       "            color:  #000000;\n",
       "        }#T_cc524ec6_0e31_11ef_bdbb_96000040dfb6row7_col3{\n",
       "            background-color:  #d9c9c2;\n",
       "            color:  #000000;\n",
       "        }#T_cc524ec6_0e31_11ef_bdbb_96000040dfb6row7_col4,#T_cc524ec6_0e31_11ef_bdbb_96000040dfb6row10_col5{\n",
       "            background-color:  #c27a61;\n",
       "            color:  #000000;\n",
       "        }#T_cc524ec6_0e31_11ef_bdbb_96000040dfb6row7_col6{\n",
       "            background-color:  #e0d6d9;\n",
       "            color:  #000000;\n",
       "        }#T_cc524ec6_0e31_11ef_bdbb_96000040dfb6row7_col7{\n",
       "            background-color:  #b86255;\n",
       "            color:  #000000;\n",
       "        }#T_cc524ec6_0e31_11ef_bdbb_96000040dfb6row7_col8{\n",
       "            background-color:  #7f2350;\n",
       "            color:  #f1f1f1;\n",
       "        }#T_cc524ec6_0e31_11ef_bdbb_96000040dfb6row7_col10,#T_cc524ec6_0e31_11ef_bdbb_96000040dfb6row10_col7{\n",
       "            background-color:  #d9c8c0;\n",
       "            color:  #000000;\n",
       "        }#T_cc524ec6_0e31_11ef_bdbb_96000040dfb6row7_col11{\n",
       "            background-color:  #7d2150;\n",
       "            color:  #f1f1f1;\n",
       "        }#T_cc524ec6_0e31_11ef_bdbb_96000040dfb6row8_col0{\n",
       "            background-color:  #45135c;\n",
       "            color:  #f1f1f1;\n",
       "        }#T_cc524ec6_0e31_11ef_bdbb_96000040dfb6row8_col1{\n",
       "            background-color:  #701c4e;\n",
       "            color:  #f1f1f1;\n",
       "        }#T_cc524ec6_0e31_11ef_bdbb_96000040dfb6row8_col3{\n",
       "            background-color:  #8c2a50;\n",
       "            color:  #f1f1f1;\n",
       "        }#T_cc524ec6_0e31_11ef_bdbb_96000040dfb6row8_col4{\n",
       "            background-color:  #c48166;\n",
       "            color:  #000000;\n",
       "        }#T_cc524ec6_0e31_11ef_bdbb_96000040dfb6row8_col5,#T_cc524ec6_0e31_11ef_bdbb_96000040dfb6row12_col2{\n",
       "            background-color:  #a94950;\n",
       "            color:  #f1f1f1;\n",
       "        }#T_cc524ec6_0e31_11ef_bdbb_96000040dfb6row8_col8{\n",
       "            background-color:  #ca9a7d;\n",
       "            color:  #000000;\n",
       "        }#T_cc524ec6_0e31_11ef_bdbb_96000040dfb6row8_col10,#T_cc524ec6_0e31_11ef_bdbb_96000040dfb6row9_col1,#T_cc524ec6_0e31_11ef_bdbb_96000040dfb6row11_col5{\n",
       "            background-color:  #ab4b50;\n",
       "            color:  #f1f1f1;\n",
       "        }#T_cc524ec6_0e31_11ef_bdbb_96000040dfb6row9_col0{\n",
       "            background-color:  #361138;\n",
       "            color:  #f1f1f1;\n",
       "        }#T_cc524ec6_0e31_11ef_bdbb_96000040dfb6row9_col2,#T_cc524ec6_0e31_11ef_bdbb_96000040dfb6row10_col2{\n",
       "            background-color:  #b96456;\n",
       "            color:  #000000;\n",
       "        }#T_cc524ec6_0e31_11ef_bdbb_96000040dfb6row9_col3{\n",
       "            background-color:  #b35953;\n",
       "            color:  #000000;\n",
       "        }#T_cc524ec6_0e31_11ef_bdbb_96000040dfb6row9_col4{\n",
       "            background-color:  #d2b8a7;\n",
       "            color:  #000000;\n",
       "        }#T_cc524ec6_0e31_11ef_bdbb_96000040dfb6row9_col5{\n",
       "            background-color:  #bd6e5a;\n",
       "            color:  #000000;\n",
       "        }#T_cc524ec6_0e31_11ef_bdbb_96000040dfb6row9_col6{\n",
       "            background-color:  #6d1b4e;\n",
       "            color:  #f1f1f1;\n",
       "        }#T_cc524ec6_0e31_11ef_bdbb_96000040dfb6row9_col7{\n",
       "            background-color:  #dccecb;\n",
       "            color:  #000000;\n",
       "        }#T_cc524ec6_0e31_11ef_bdbb_96000040dfb6row9_col8{\n",
       "            background-color:  #761f4f;\n",
       "            color:  #f1f1f1;\n",
       "        }#T_cc524ec6_0e31_11ef_bdbb_96000040dfb6row9_col9{\n",
       "            background-color:  #c0765f;\n",
       "            color:  #000000;\n",
       "        }#T_cc524ec6_0e31_11ef_bdbb_96000040dfb6row10_col0{\n",
       "            background-color:  #3f123d;\n",
       "            color:  #f1f1f1;\n",
       "        }#T_cc524ec6_0e31_11ef_bdbb_96000040dfb6row10_col3,#T_cc524ec6_0e31_11ef_bdbb_96000040dfb6row11_col2{\n",
       "            background-color:  #a44250;\n",
       "            color:  #f1f1f1;\n",
       "        }#T_cc524ec6_0e31_11ef_bdbb_96000040dfb6row10_col8{\n",
       "            background-color:  #44123f;\n",
       "            color:  #f1f1f1;\n",
       "        }#T_cc524ec6_0e31_11ef_bdbb_96000040dfb6row11_col0{\n",
       "            background-color:  #741e4f;\n",
       "            color:  #f1f1f1;\n",
       "        }#T_cc524ec6_0e31_11ef_bdbb_96000040dfb6row11_col1{\n",
       "            background-color:  #cda88f;\n",
       "            color:  #000000;\n",
       "        }#T_cc524ec6_0e31_11ef_bdbb_96000040dfb6row11_col4{\n",
       "            background-color:  #ac4c50;\n",
       "            color:  #f1f1f1;\n",
       "        }#T_cc524ec6_0e31_11ef_bdbb_96000040dfb6row11_col6{\n",
       "            background-color:  #cba085;\n",
       "            color:  #000000;\n",
       "        }#T_cc524ec6_0e31_11ef_bdbb_96000040dfb6row11_col7{\n",
       "            background-color:  #963350;\n",
       "            color:  #f1f1f1;\n",
       "        }#T_cc524ec6_0e31_11ef_bdbb_96000040dfb6row12_col0{\n",
       "            background-color:  #8e2c50;\n",
       "            color:  #f1f1f1;\n",
       "        }#T_cc524ec6_0e31_11ef_bdbb_96000040dfb6row12_col5{\n",
       "            background-color:  #d0b29c;\n",
       "            color:  #000000;\n",
       "        }#T_cc524ec6_0e31_11ef_bdbb_96000040dfb6row12_col6{\n",
       "            background-color:  #65194c;\n",
       "            color:  #f1f1f1;\n",
       "        }#T_cc524ec6_0e31_11ef_bdbb_96000040dfb6row13_col0{\n",
       "            background-color:  #aa4a50;\n",
       "            color:  #f1f1f1;\n",
       "        }#T_cc524ec6_0e31_11ef_bdbb_96000040dfb6row13_col1{\n",
       "            background-color:  #953250;\n",
       "            color:  #f1f1f1;\n",
       "        }#T_cc524ec6_0e31_11ef_bdbb_96000040dfb6row14_col1{\n",
       "            background-color:  #bb6958;\n",
       "            color:  #000000;\n",
       "        }#T_cc524ec6_0e31_11ef_bdbb_96000040dfb6row14_col3{\n",
       "            background-color:  #dccfcd;\n",
       "            color:  #000000;\n",
       "        }#T_cc524ec6_0e31_11ef_bdbb_96000040dfb6row15_col0{\n",
       "            background-color:  #c99679;\n",
       "            color:  #000000;\n",
       "        }#T_cc524ec6_0e31_11ef_bdbb_96000040dfb6row15_col1{\n",
       "            background-color:  #943150;\n",
       "            color:  #f1f1f1;\n",
       "        }#T_cc524ec6_0e31_11ef_bdbb_96000040dfb6row15_col3{\n",
       "            background-color:  #bc6a58;\n",
       "            color:  #000000;\n",
       "        }#T_cc524ec6_0e31_11ef_bdbb_96000040dfb6row16_col0{\n",
       "            background-color:  #cfaf99;\n",
       "            color:  #000000;\n",
       "        }</style><table id=\"T_cc524ec6_0e31_11ef_bdbb_96000040dfb6\" ><caption>User retention by cohort</caption><thead>    <tr>        <th class=\"index_name level0\" >period</th>        <th class=\"col_heading level0 col0\" >cohort_size</th>        <th class=\"col_heading level0 col1\" >1</th>        <th class=\"col_heading level0 col2\" >2</th>        <th class=\"col_heading level0 col3\" >3</th>        <th class=\"col_heading level0 col4\" >4</th>        <th class=\"col_heading level0 col5\" >5</th>        <th class=\"col_heading level0 col6\" >6</th>        <th class=\"col_heading level0 col7\" >7</th>        <th class=\"col_heading level0 col8\" >8</th>        <th class=\"col_heading level0 col9\" >9</th>        <th class=\"col_heading level0 col10\" >10</th>        <th class=\"col_heading level0 col11\" >11</th>        <th class=\"col_heading level0 col12\" >12</th>        <th class=\"col_heading level0 col13\" >13</th>        <th class=\"col_heading level0 col14\" >14</th>        <th class=\"col_heading level0 col15\" >15</th>        <th class=\"col_heading level0 col16\" >16</th>        <th class=\"col_heading level0 col17\" >17</th>        <th class=\"col_heading level0 col18\" >18</th>        <th class=\"col_heading level0 col19\" >19</th>    </tr>    <tr>        <th class=\"index_name level0\" >cohort</th>        <th class=\"blank\" ></th>        <th class=\"blank\" ></th>        <th class=\"blank\" ></th>        <th class=\"blank\" ></th>        <th class=\"blank\" ></th>        <th class=\"blank\" ></th>        <th class=\"blank\" ></th>        <th class=\"blank\" ></th>        <th class=\"blank\" ></th>        <th class=\"blank\" ></th>        <th class=\"blank\" ></th>        <th class=\"blank\" ></th>        <th class=\"blank\" ></th>        <th class=\"blank\" ></th>        <th class=\"blank\" ></th>        <th class=\"blank\" ></th>        <th class=\"blank\" ></th>        <th class=\"blank\" ></th>        <th class=\"blank\" ></th>        <th class=\"blank\" ></th>    </tr></thead><tbody>\n",
       "                <tr>\n",
       "                        <th id=\"T_cc524ec6_0e31_11ef_bdbb_96000040dfb6level0_row0\" class=\"row_heading level0 row0\" >2020-09-04</th>\n",
       "                        <td id=\"T_cc524ec6_0e31_11ef_bdbb_96000040dfb6row0_col0\" class=\"data row0 col0\" >1593</td>\n",
       "                        <td id=\"T_cc524ec6_0e31_11ef_bdbb_96000040dfb6row0_col1\" class=\"data row0 col1\" >3.83%</td>\n",
       "                        <td id=\"T_cc524ec6_0e31_11ef_bdbb_96000040dfb6row0_col2\" class=\"data row0 col2\" >4.08%</td>\n",
       "                        <td id=\"T_cc524ec6_0e31_11ef_bdbb_96000040dfb6row0_col3\" class=\"data row0 col3\" >4.14%</td>\n",
       "                        <td id=\"T_cc524ec6_0e31_11ef_bdbb_96000040dfb6row0_col4\" class=\"data row0 col4\" >4.96%</td>\n",
       "                        <td id=\"T_cc524ec6_0e31_11ef_bdbb_96000040dfb6row0_col5\" class=\"data row0 col5\" >7.41%</td>\n",
       "                        <td id=\"T_cc524ec6_0e31_11ef_bdbb_96000040dfb6row0_col6\" class=\"data row0 col6\" >7.60%</td>\n",
       "                        <td id=\"T_cc524ec6_0e31_11ef_bdbb_96000040dfb6row0_col7\" class=\"data row0 col7\" >3.89%</td>\n",
       "                        <td id=\"T_cc524ec6_0e31_11ef_bdbb_96000040dfb6row0_col8\" class=\"data row0 col8\" >4.46%</td>\n",
       "                        <td id=\"T_cc524ec6_0e31_11ef_bdbb_96000040dfb6row0_col9\" class=\"data row0 col9\" >4.83%</td>\n",
       "                        <td id=\"T_cc524ec6_0e31_11ef_bdbb_96000040dfb6row0_col10\" class=\"data row0 col10\" >5.90%</td>\n",
       "                        <td id=\"T_cc524ec6_0e31_11ef_bdbb_96000040dfb6row0_col11\" class=\"data row0 col11\" >5.08%</td>\n",
       "                        <td id=\"T_cc524ec6_0e31_11ef_bdbb_96000040dfb6row0_col12\" class=\"data row0 col12\" >4.71%</td>\n",
       "                        <td id=\"T_cc524ec6_0e31_11ef_bdbb_96000040dfb6row0_col13\" class=\"data row0 col13\" >5.27%</td>\n",
       "                        <td id=\"T_cc524ec6_0e31_11ef_bdbb_96000040dfb6row0_col14\" class=\"data row0 col14\" >4.39%</td>\n",
       "                        <td id=\"T_cc524ec6_0e31_11ef_bdbb_96000040dfb6row0_col15\" class=\"data row0 col15\" >4.27%</td>\n",
       "                        <td id=\"T_cc524ec6_0e31_11ef_bdbb_96000040dfb6row0_col16\" class=\"data row0 col16\" >4.83%</td>\n",
       "                        <td id=\"T_cc524ec6_0e31_11ef_bdbb_96000040dfb6row0_col17\" class=\"data row0 col17\" >4.39%</td>\n",
       "                        <td id=\"T_cc524ec6_0e31_11ef_bdbb_96000040dfb6row0_col18\" class=\"data row0 col18\" >4.08%</td>\n",
       "                        <td id=\"T_cc524ec6_0e31_11ef_bdbb_96000040dfb6row0_col19\" class=\"data row0 col19\" >0.82%</td>\n",
       "            </tr>\n",
       "            <tr>\n",
       "                        <th id=\"T_cc524ec6_0e31_11ef_bdbb_96000040dfb6level0_row1\" class=\"row_heading level0 row1\" >2020-09-05</th>\n",
       "                        <td id=\"T_cc524ec6_0e31_11ef_bdbb_96000040dfb6row1_col0\" class=\"data row1 col0\" >1596</td>\n",
       "                        <td id=\"T_cc524ec6_0e31_11ef_bdbb_96000040dfb6row1_col1\" class=\"data row1 col1\" >4.89%</td>\n",
       "                        <td id=\"T_cc524ec6_0e31_11ef_bdbb_96000040dfb6row1_col2\" class=\"data row1 col2\" >4.01%</td>\n",
       "                        <td id=\"T_cc524ec6_0e31_11ef_bdbb_96000040dfb6row1_col3\" class=\"data row1 col3\" >5.08%</td>\n",
       "                        <td id=\"T_cc524ec6_0e31_11ef_bdbb_96000040dfb6row1_col4\" class=\"data row1 col4\" >5.33%</td>\n",
       "                        <td id=\"T_cc524ec6_0e31_11ef_bdbb_96000040dfb6row1_col5\" class=\"data row1 col5\" >7.39%</td>\n",
       "                        <td id=\"T_cc524ec6_0e31_11ef_bdbb_96000040dfb6row1_col6\" class=\"data row1 col6\" >6.83%</td>\n",
       "                        <td id=\"T_cc524ec6_0e31_11ef_bdbb_96000040dfb6row1_col7\" class=\"data row1 col7\" >4.07%</td>\n",
       "                        <td id=\"T_cc524ec6_0e31_11ef_bdbb_96000040dfb6row1_col8\" class=\"data row1 col8\" >5.33%</td>\n",
       "                        <td id=\"T_cc524ec6_0e31_11ef_bdbb_96000040dfb6row1_col9\" class=\"data row1 col9\" >5.64%</td>\n",
       "                        <td id=\"T_cc524ec6_0e31_11ef_bdbb_96000040dfb6row1_col10\" class=\"data row1 col10\" >5.76%</td>\n",
       "                        <td id=\"T_cc524ec6_0e31_11ef_bdbb_96000040dfb6row1_col11\" class=\"data row1 col11\" >5.08%</td>\n",
       "                        <td id=\"T_cc524ec6_0e31_11ef_bdbb_96000040dfb6row1_col12\" class=\"data row1 col12\" >3.95%</td>\n",
       "                        <td id=\"T_cc524ec6_0e31_11ef_bdbb_96000040dfb6row1_col13\" class=\"data row1 col13\" >5.76%</td>\n",
       "                        <td id=\"T_cc524ec6_0e31_11ef_bdbb_96000040dfb6row1_col14\" class=\"data row1 col14\" >4.70%</td>\n",
       "                        <td id=\"T_cc524ec6_0e31_11ef_bdbb_96000040dfb6row1_col15\" class=\"data row1 col15\" >4.57%</td>\n",
       "                        <td id=\"T_cc524ec6_0e31_11ef_bdbb_96000040dfb6row1_col16\" class=\"data row1 col16\" >5.20%</td>\n",
       "                        <td id=\"T_cc524ec6_0e31_11ef_bdbb_96000040dfb6row1_col17\" class=\"data row1 col17\" >3.63%</td>\n",
       "                        <td id=\"T_cc524ec6_0e31_11ef_bdbb_96000040dfb6row1_col18\" class=\"data row1 col18\" >0.88%</td>\n",
       "                        <td id=\"T_cc524ec6_0e31_11ef_bdbb_96000040dfb6row1_col19\" class=\"data row1 col19\" ></td>\n",
       "            </tr>\n",
       "            <tr>\n",
       "                        <th id=\"T_cc524ec6_0e31_11ef_bdbb_96000040dfb6level0_row2\" class=\"row_heading level0 row2\" >2020-09-06</th>\n",
       "                        <td id=\"T_cc524ec6_0e31_11ef_bdbb_96000040dfb6row2_col0\" class=\"data row2 col0\" >1599</td>\n",
       "                        <td id=\"T_cc524ec6_0e31_11ef_bdbb_96000040dfb6row2_col1\" class=\"data row2 col1\" >4.94%</td>\n",
       "                        <td id=\"T_cc524ec6_0e31_11ef_bdbb_96000040dfb6row2_col2\" class=\"data row2 col2\" >4.82%</td>\n",
       "                        <td id=\"T_cc524ec6_0e31_11ef_bdbb_96000040dfb6row2_col3\" class=\"data row2 col3\" >5.50%</td>\n",
       "                        <td id=\"T_cc524ec6_0e31_11ef_bdbb_96000040dfb6row2_col4\" class=\"data row2 col4\" >5.63%</td>\n",
       "                        <td id=\"T_cc524ec6_0e31_11ef_bdbb_96000040dfb6row2_col5\" class=\"data row2 col5\" >6.07%</td>\n",
       "                        <td id=\"T_cc524ec6_0e31_11ef_bdbb_96000040dfb6row2_col6\" class=\"data row2 col6\" >7.82%</td>\n",
       "                        <td id=\"T_cc524ec6_0e31_11ef_bdbb_96000040dfb6row2_col7\" class=\"data row2 col7\" >5.07%</td>\n",
       "                        <td id=\"T_cc524ec6_0e31_11ef_bdbb_96000040dfb6row2_col8\" class=\"data row2 col8\" >6.32%</td>\n",
       "                        <td id=\"T_cc524ec6_0e31_11ef_bdbb_96000040dfb6row2_col9\" class=\"data row2 col9\" >4.82%</td>\n",
       "                        <td id=\"T_cc524ec6_0e31_11ef_bdbb_96000040dfb6row2_col10\" class=\"data row2 col10\" >4.88%</td>\n",
       "                        <td id=\"T_cc524ec6_0e31_11ef_bdbb_96000040dfb6row2_col11\" class=\"data row2 col11\" >5.00%</td>\n",
       "                        <td id=\"T_cc524ec6_0e31_11ef_bdbb_96000040dfb6row2_col12\" class=\"data row2 col12\" >5.44%</td>\n",
       "                        <td id=\"T_cc524ec6_0e31_11ef_bdbb_96000040dfb6row2_col13\" class=\"data row2 col13\" >5.19%</td>\n",
       "                        <td id=\"T_cc524ec6_0e31_11ef_bdbb_96000040dfb6row2_col14\" class=\"data row2 col14\" >5.25%</td>\n",
       "                        <td id=\"T_cc524ec6_0e31_11ef_bdbb_96000040dfb6row2_col15\" class=\"data row2 col15\" >4.63%</td>\n",
       "                        <td id=\"T_cc524ec6_0e31_11ef_bdbb_96000040dfb6row2_col16\" class=\"data row2 col16\" >3.81%</td>\n",
       "                        <td id=\"T_cc524ec6_0e31_11ef_bdbb_96000040dfb6row2_col17\" class=\"data row2 col17\" >1.06%</td>\n",
       "                        <td id=\"T_cc524ec6_0e31_11ef_bdbb_96000040dfb6row2_col18\" class=\"data row2 col18\" ></td>\n",
       "                        <td id=\"T_cc524ec6_0e31_11ef_bdbb_96000040dfb6row2_col19\" class=\"data row2 col19\" ></td>\n",
       "            </tr>\n",
       "            <tr>\n",
       "                        <th id=\"T_cc524ec6_0e31_11ef_bdbb_96000040dfb6level0_row3\" class=\"row_heading level0 row3\" >2020-09-07</th>\n",
       "                        <td id=\"T_cc524ec6_0e31_11ef_bdbb_96000040dfb6row3_col0\" class=\"data row3 col0\" >1601</td>\n",
       "                        <td id=\"T_cc524ec6_0e31_11ef_bdbb_96000040dfb6row3_col1\" class=\"data row3 col1\" >5.18%</td>\n",
       "                        <td id=\"T_cc524ec6_0e31_11ef_bdbb_96000040dfb6row3_col2\" class=\"data row3 col2\" >4.37%</td>\n",
       "                        <td id=\"T_cc524ec6_0e31_11ef_bdbb_96000040dfb6row3_col3\" class=\"data row3 col3\" >5.00%</td>\n",
       "                        <td id=\"T_cc524ec6_0e31_11ef_bdbb_96000040dfb6row3_col4\" class=\"data row3 col4\" >6.31%</td>\n",
       "                        <td id=\"T_cc524ec6_0e31_11ef_bdbb_96000040dfb6row3_col5\" class=\"data row3 col5\" >6.81%</td>\n",
       "                        <td id=\"T_cc524ec6_0e31_11ef_bdbb_96000040dfb6row3_col6\" class=\"data row3 col6\" >6.56%</td>\n",
       "                        <td id=\"T_cc524ec6_0e31_11ef_bdbb_96000040dfb6row3_col7\" class=\"data row3 col7\" >4.00%</td>\n",
       "                        <td id=\"T_cc524ec6_0e31_11ef_bdbb_96000040dfb6row3_col8\" class=\"data row3 col8\" >5.00%</td>\n",
       "                        <td id=\"T_cc524ec6_0e31_11ef_bdbb_96000040dfb6row3_col9\" class=\"data row3 col9\" >6.06%</td>\n",
       "                        <td id=\"T_cc524ec6_0e31_11ef_bdbb_96000040dfb6row3_col10\" class=\"data row3 col10\" >6.00%</td>\n",
       "                        <td id=\"T_cc524ec6_0e31_11ef_bdbb_96000040dfb6row3_col11\" class=\"data row3 col11\" >5.00%</td>\n",
       "                        <td id=\"T_cc524ec6_0e31_11ef_bdbb_96000040dfb6row3_col12\" class=\"data row3 col12\" >4.87%</td>\n",
       "                        <td id=\"T_cc524ec6_0e31_11ef_bdbb_96000040dfb6row3_col13\" class=\"data row3 col13\" >4.87%</td>\n",
       "                        <td id=\"T_cc524ec6_0e31_11ef_bdbb_96000040dfb6row3_col14\" class=\"data row3 col14\" >4.00%</td>\n",
       "                        <td id=\"T_cc524ec6_0e31_11ef_bdbb_96000040dfb6row3_col15\" class=\"data row3 col15\" >4.93%</td>\n",
       "                        <td id=\"T_cc524ec6_0e31_11ef_bdbb_96000040dfb6row3_col16\" class=\"data row3 col16\" >1.31%</td>\n",
       "                        <td id=\"T_cc524ec6_0e31_11ef_bdbb_96000040dfb6row3_col17\" class=\"data row3 col17\" ></td>\n",
       "                        <td id=\"T_cc524ec6_0e31_11ef_bdbb_96000040dfb6row3_col18\" class=\"data row3 col18\" ></td>\n",
       "                        <td id=\"T_cc524ec6_0e31_11ef_bdbb_96000040dfb6row3_col19\" class=\"data row3 col19\" ></td>\n",
       "            </tr>\n",
       "            <tr>\n",
       "                        <th id=\"T_cc524ec6_0e31_11ef_bdbb_96000040dfb6level0_row4\" class=\"row_heading level0 row4\" >2020-09-08</th>\n",
       "                        <td id=\"T_cc524ec6_0e31_11ef_bdbb_96000040dfb6row4_col0\" class=\"data row4 col0\" >1604</td>\n",
       "                        <td id=\"T_cc524ec6_0e31_11ef_bdbb_96000040dfb6row4_col1\" class=\"data row4 col1\" >3.93%</td>\n",
       "                        <td id=\"T_cc524ec6_0e31_11ef_bdbb_96000040dfb6row4_col2\" class=\"data row4 col2\" >3.62%</td>\n",
       "                        <td id=\"T_cc524ec6_0e31_11ef_bdbb_96000040dfb6row4_col3\" class=\"data row4 col3\" >4.61%</td>\n",
       "                        <td id=\"T_cc524ec6_0e31_11ef_bdbb_96000040dfb6row4_col4\" class=\"data row4 col4\" >5.74%</td>\n",
       "                        <td id=\"T_cc524ec6_0e31_11ef_bdbb_96000040dfb6row4_col5\" class=\"data row4 col5\" >7.73%</td>\n",
       "                        <td id=\"T_cc524ec6_0e31_11ef_bdbb_96000040dfb6row4_col6\" class=\"data row4 col6\" >8.67%</td>\n",
       "                        <td id=\"T_cc524ec6_0e31_11ef_bdbb_96000040dfb6row4_col7\" class=\"data row4 col7\" >4.49%</td>\n",
       "                        <td id=\"T_cc524ec6_0e31_11ef_bdbb_96000040dfb6row4_col8\" class=\"data row4 col8\" >5.24%</td>\n",
       "                        <td id=\"T_cc524ec6_0e31_11ef_bdbb_96000040dfb6row4_col9\" class=\"data row4 col9\" >5.49%</td>\n",
       "                        <td id=\"T_cc524ec6_0e31_11ef_bdbb_96000040dfb6row4_col10\" class=\"data row4 col10\" >5.86%</td>\n",
       "                        <td id=\"T_cc524ec6_0e31_11ef_bdbb_96000040dfb6row4_col11\" class=\"data row4 col11\" >6.42%</td>\n",
       "                        <td id=\"T_cc524ec6_0e31_11ef_bdbb_96000040dfb6row4_col12\" class=\"data row4 col12\" >5.30%</td>\n",
       "                        <td id=\"T_cc524ec6_0e31_11ef_bdbb_96000040dfb6row4_col13\" class=\"data row4 col13\" >4.99%</td>\n",
       "                        <td id=\"T_cc524ec6_0e31_11ef_bdbb_96000040dfb6row4_col14\" class=\"data row4 col14\" >4.18%</td>\n",
       "                        <td id=\"T_cc524ec6_0e31_11ef_bdbb_96000040dfb6row4_col15\" class=\"data row4 col15\" >1.12%</td>\n",
       "                        <td id=\"T_cc524ec6_0e31_11ef_bdbb_96000040dfb6row4_col16\" class=\"data row4 col16\" ></td>\n",
       "                        <td id=\"T_cc524ec6_0e31_11ef_bdbb_96000040dfb6row4_col17\" class=\"data row4 col17\" ></td>\n",
       "                        <td id=\"T_cc524ec6_0e31_11ef_bdbb_96000040dfb6row4_col18\" class=\"data row4 col18\" ></td>\n",
       "                        <td id=\"T_cc524ec6_0e31_11ef_bdbb_96000040dfb6row4_col19\" class=\"data row4 col19\" ></td>\n",
       "            </tr>\n",
       "            <tr>\n",
       "                        <th id=\"T_cc524ec6_0e31_11ef_bdbb_96000040dfb6level0_row5\" class=\"row_heading level0 row5\" >2020-09-09</th>\n",
       "                        <td id=\"T_cc524ec6_0e31_11ef_bdbb_96000040dfb6row5_col0\" class=\"data row5 col0\" >1607</td>\n",
       "                        <td id=\"T_cc524ec6_0e31_11ef_bdbb_96000040dfb6row5_col1\" class=\"data row5 col1\" >2.92%</td>\n",
       "                        <td id=\"T_cc524ec6_0e31_11ef_bdbb_96000040dfb6row5_col2\" class=\"data row5 col2\" >4.11%</td>\n",
       "                        <td id=\"T_cc524ec6_0e31_11ef_bdbb_96000040dfb6row5_col3\" class=\"data row5 col3\" >5.23%</td>\n",
       "                        <td id=\"T_cc524ec6_0e31_11ef_bdbb_96000040dfb6row5_col4\" class=\"data row5 col4\" >6.60%</td>\n",
       "                        <td id=\"T_cc524ec6_0e31_11ef_bdbb_96000040dfb6row5_col5\" class=\"data row5 col5\" >5.91%</td>\n",
       "                        <td id=\"T_cc524ec6_0e31_11ef_bdbb_96000040dfb6row5_col6\" class=\"data row5 col6\" >6.66%</td>\n",
       "                        <td id=\"T_cc524ec6_0e31_11ef_bdbb_96000040dfb6row5_col7\" class=\"data row5 col7\" >4.67%</td>\n",
       "                        <td id=\"T_cc524ec6_0e31_11ef_bdbb_96000040dfb6row5_col8\" class=\"data row5 col8\" >4.17%</td>\n",
       "                        <td id=\"T_cc524ec6_0e31_11ef_bdbb_96000040dfb6row5_col9\" class=\"data row5 col9\" >4.79%</td>\n",
       "                        <td id=\"T_cc524ec6_0e31_11ef_bdbb_96000040dfb6row5_col10\" class=\"data row5 col10\" >4.04%</td>\n",
       "                        <td id=\"T_cc524ec6_0e31_11ef_bdbb_96000040dfb6row5_col11\" class=\"data row5 col11\" >5.79%</td>\n",
       "                        <td id=\"T_cc524ec6_0e31_11ef_bdbb_96000040dfb6row5_col12\" class=\"data row5 col12\" >3.86%</td>\n",
       "                        <td id=\"T_cc524ec6_0e31_11ef_bdbb_96000040dfb6row5_col13\" class=\"data row5 col13\" >4.36%</td>\n",
       "                        <td id=\"T_cc524ec6_0e31_11ef_bdbb_96000040dfb6row5_col14\" class=\"data row5 col14\" >0.81%</td>\n",
       "                        <td id=\"T_cc524ec6_0e31_11ef_bdbb_96000040dfb6row5_col15\" class=\"data row5 col15\" ></td>\n",
       "                        <td id=\"T_cc524ec6_0e31_11ef_bdbb_96000040dfb6row5_col16\" class=\"data row5 col16\" ></td>\n",
       "                        <td id=\"T_cc524ec6_0e31_11ef_bdbb_96000040dfb6row5_col17\" class=\"data row5 col17\" ></td>\n",
       "                        <td id=\"T_cc524ec6_0e31_11ef_bdbb_96000040dfb6row5_col18\" class=\"data row5 col18\" ></td>\n",
       "                        <td id=\"T_cc524ec6_0e31_11ef_bdbb_96000040dfb6row5_col19\" class=\"data row5 col19\" ></td>\n",
       "            </tr>\n",
       "            <tr>\n",
       "                        <th id=\"T_cc524ec6_0e31_11ef_bdbb_96000040dfb6level0_row6\" class=\"row_heading level0 row6\" >2020-09-10</th>\n",
       "                        <td id=\"T_cc524ec6_0e31_11ef_bdbb_96000040dfb6row6_col0\" class=\"data row6 col0\" >1609</td>\n",
       "                        <td id=\"T_cc524ec6_0e31_11ef_bdbb_96000040dfb6row6_col1\" class=\"data row6 col1\" >4.29%</td>\n",
       "                        <td id=\"T_cc524ec6_0e31_11ef_bdbb_96000040dfb6row6_col2\" class=\"data row6 col2\" >3.98%</td>\n",
       "                        <td id=\"T_cc524ec6_0e31_11ef_bdbb_96000040dfb6row6_col3\" class=\"data row6 col3\" >4.85%</td>\n",
       "                        <td id=\"T_cc524ec6_0e31_11ef_bdbb_96000040dfb6row6_col4\" class=\"data row6 col4\" >5.84%</td>\n",
       "                        <td id=\"T_cc524ec6_0e31_11ef_bdbb_96000040dfb6row6_col5\" class=\"data row6 col5\" >6.65%</td>\n",
       "                        <td id=\"T_cc524ec6_0e31_11ef_bdbb_96000040dfb6row6_col6\" class=\"data row6 col6\" >7.09%</td>\n",
       "                        <td id=\"T_cc524ec6_0e31_11ef_bdbb_96000040dfb6row6_col7\" class=\"data row6 col7\" >5.28%</td>\n",
       "                        <td id=\"T_cc524ec6_0e31_11ef_bdbb_96000040dfb6row6_col8\" class=\"data row6 col8\" >4.41%</td>\n",
       "                        <td id=\"T_cc524ec6_0e31_11ef_bdbb_96000040dfb6row6_col9\" class=\"data row6 col9\" >5.34%</td>\n",
       "                        <td id=\"T_cc524ec6_0e31_11ef_bdbb_96000040dfb6row6_col10\" class=\"data row6 col10\" >5.28%</td>\n",
       "                        <td id=\"T_cc524ec6_0e31_11ef_bdbb_96000040dfb6row6_col11\" class=\"data row6 col11\" >5.22%</td>\n",
       "                        <td id=\"T_cc524ec6_0e31_11ef_bdbb_96000040dfb6row6_col12\" class=\"data row6 col12\" >4.85%</td>\n",
       "                        <td id=\"T_cc524ec6_0e31_11ef_bdbb_96000040dfb6row6_col13\" class=\"data row6 col13\" >0.99%</td>\n",
       "                        <td id=\"T_cc524ec6_0e31_11ef_bdbb_96000040dfb6row6_col14\" class=\"data row6 col14\" ></td>\n",
       "                        <td id=\"T_cc524ec6_0e31_11ef_bdbb_96000040dfb6row6_col15\" class=\"data row6 col15\" ></td>\n",
       "                        <td id=\"T_cc524ec6_0e31_11ef_bdbb_96000040dfb6row6_col16\" class=\"data row6 col16\" ></td>\n",
       "                        <td id=\"T_cc524ec6_0e31_11ef_bdbb_96000040dfb6row6_col17\" class=\"data row6 col17\" ></td>\n",
       "                        <td id=\"T_cc524ec6_0e31_11ef_bdbb_96000040dfb6row6_col18\" class=\"data row6 col18\" ></td>\n",
       "                        <td id=\"T_cc524ec6_0e31_11ef_bdbb_96000040dfb6row6_col19\" class=\"data row6 col19\" ></td>\n",
       "            </tr>\n",
       "            <tr>\n",
       "                        <th id=\"T_cc524ec6_0e31_11ef_bdbb_96000040dfb6level0_row7\" class=\"row_heading level0 row7\" >2020-09-11</th>\n",
       "                        <td id=\"T_cc524ec6_0e31_11ef_bdbb_96000040dfb6row7_col0\" class=\"data row7 col0\" >1612</td>\n",
       "                        <td id=\"T_cc524ec6_0e31_11ef_bdbb_96000040dfb6row7_col1\" class=\"data row7 col1\" >3.04%</td>\n",
       "                        <td id=\"T_cc524ec6_0e31_11ef_bdbb_96000040dfb6row7_col2\" class=\"data row7 col2\" >4.34%</td>\n",
       "                        <td id=\"T_cc524ec6_0e31_11ef_bdbb_96000040dfb6row7_col3\" class=\"data row7 col3\" >5.52%</td>\n",
       "                        <td id=\"T_cc524ec6_0e31_11ef_bdbb_96000040dfb6row7_col4\" class=\"data row7 col4\" >5.58%</td>\n",
       "                        <td id=\"T_cc524ec6_0e31_11ef_bdbb_96000040dfb6row7_col5\" class=\"data row7 col5\" >5.27%</td>\n",
       "                        <td id=\"T_cc524ec6_0e31_11ef_bdbb_96000040dfb6row7_col6\" class=\"data row7 col6\" >8.50%</td>\n",
       "                        <td id=\"T_cc524ec6_0e31_11ef_bdbb_96000040dfb6row7_col7\" class=\"data row7 col7\" >4.22%</td>\n",
       "                        <td id=\"T_cc524ec6_0e31_11ef_bdbb_96000040dfb6row7_col8\" class=\"data row7 col8\" >4.28%</td>\n",
       "                        <td id=\"T_cc524ec6_0e31_11ef_bdbb_96000040dfb6row7_col9\" class=\"data row7 col9\" >5.02%</td>\n",
       "                        <td id=\"T_cc524ec6_0e31_11ef_bdbb_96000040dfb6row7_col10\" class=\"data row7 col10\" >5.71%</td>\n",
       "                        <td id=\"T_cc524ec6_0e31_11ef_bdbb_96000040dfb6row7_col11\" class=\"data row7 col11\" >4.34%</td>\n",
       "                        <td id=\"T_cc524ec6_0e31_11ef_bdbb_96000040dfb6row7_col12\" class=\"data row7 col12\" >1.49%</td>\n",
       "                        <td id=\"T_cc524ec6_0e31_11ef_bdbb_96000040dfb6row7_col13\" class=\"data row7 col13\" ></td>\n",
       "                        <td id=\"T_cc524ec6_0e31_11ef_bdbb_96000040dfb6row7_col14\" class=\"data row7 col14\" ></td>\n",
       "                        <td id=\"T_cc524ec6_0e31_11ef_bdbb_96000040dfb6row7_col15\" class=\"data row7 col15\" ></td>\n",
       "                        <td id=\"T_cc524ec6_0e31_11ef_bdbb_96000040dfb6row7_col16\" class=\"data row7 col16\" ></td>\n",
       "                        <td id=\"T_cc524ec6_0e31_11ef_bdbb_96000040dfb6row7_col17\" class=\"data row7 col17\" ></td>\n",
       "                        <td id=\"T_cc524ec6_0e31_11ef_bdbb_96000040dfb6row7_col18\" class=\"data row7 col18\" ></td>\n",
       "                        <td id=\"T_cc524ec6_0e31_11ef_bdbb_96000040dfb6row7_col19\" class=\"data row7 col19\" ></td>\n",
       "            </tr>\n",
       "            <tr>\n",
       "                        <th id=\"T_cc524ec6_0e31_11ef_bdbb_96000040dfb6level0_row8\" class=\"row_heading level0 row8\" >2020-09-12</th>\n",
       "                        <td id=\"T_cc524ec6_0e31_11ef_bdbb_96000040dfb6row8_col0\" class=\"data row8 col0\" >1614</td>\n",
       "                        <td id=\"T_cc524ec6_0e31_11ef_bdbb_96000040dfb6row8_col1\" class=\"data row8 col1\" >3.53%</td>\n",
       "                        <td id=\"T_cc524ec6_0e31_11ef_bdbb_96000040dfb6row8_col2\" class=\"data row8 col2\" >4.89%</td>\n",
       "                        <td id=\"T_cc524ec6_0e31_11ef_bdbb_96000040dfb6row8_col3\" class=\"data row8 col3\" >4.21%</td>\n",
       "                        <td id=\"T_cc524ec6_0e31_11ef_bdbb_96000040dfb6row8_col4\" class=\"data row8 col4\" >5.64%</td>\n",
       "                        <td id=\"T_cc524ec6_0e31_11ef_bdbb_96000040dfb6row8_col5\" class=\"data row8 col5\" >5.95%</td>\n",
       "                        <td id=\"T_cc524ec6_0e31_11ef_bdbb_96000040dfb6row8_col6\" class=\"data row8 col6\" >7.37%</td>\n",
       "                        <td id=\"T_cc524ec6_0e31_11ef_bdbb_96000040dfb6row8_col7\" class=\"data row8 col7\" >4.21%</td>\n",
       "                        <td id=\"T_cc524ec6_0e31_11ef_bdbb_96000040dfb6row8_col8\" class=\"data row8 col8\" >5.51%</td>\n",
       "                        <td id=\"T_cc524ec6_0e31_11ef_bdbb_96000040dfb6row8_col9\" class=\"data row8 col9\" >5.45%</td>\n",
       "                        <td id=\"T_cc524ec6_0e31_11ef_bdbb_96000040dfb6row8_col10\" class=\"data row8 col10\" >4.71%</td>\n",
       "                        <td id=\"T_cc524ec6_0e31_11ef_bdbb_96000040dfb6row8_col11\" class=\"data row8 col11\" >0.68%</td>\n",
       "                        <td id=\"T_cc524ec6_0e31_11ef_bdbb_96000040dfb6row8_col12\" class=\"data row8 col12\" ></td>\n",
       "                        <td id=\"T_cc524ec6_0e31_11ef_bdbb_96000040dfb6row8_col13\" class=\"data row8 col13\" ></td>\n",
       "                        <td id=\"T_cc524ec6_0e31_11ef_bdbb_96000040dfb6row8_col14\" class=\"data row8 col14\" ></td>\n",
       "                        <td id=\"T_cc524ec6_0e31_11ef_bdbb_96000040dfb6row8_col15\" class=\"data row8 col15\" ></td>\n",
       "                        <td id=\"T_cc524ec6_0e31_11ef_bdbb_96000040dfb6row8_col16\" class=\"data row8 col16\" ></td>\n",
       "                        <td id=\"T_cc524ec6_0e31_11ef_bdbb_96000040dfb6row8_col17\" class=\"data row8 col17\" ></td>\n",
       "                        <td id=\"T_cc524ec6_0e31_11ef_bdbb_96000040dfb6row8_col18\" class=\"data row8 col18\" ></td>\n",
       "                        <td id=\"T_cc524ec6_0e31_11ef_bdbb_96000040dfb6row8_col19\" class=\"data row8 col19\" ></td>\n",
       "            </tr>\n",
       "            <tr>\n",
       "                        <th id=\"T_cc524ec6_0e31_11ef_bdbb_96000040dfb6level0_row9\" class=\"row_heading level0 row9\" >2020-09-13</th>\n",
       "                        <td id=\"T_cc524ec6_0e31_11ef_bdbb_96000040dfb6row9_col0\" class=\"data row9 col0\" >1618</td>\n",
       "                        <td id=\"T_cc524ec6_0e31_11ef_bdbb_96000040dfb6row9_col1\" class=\"data row9 col1\" >4.02%</td>\n",
       "                        <td id=\"T_cc524ec6_0e31_11ef_bdbb_96000040dfb6row9_col2\" class=\"data row9 col2\" >3.96%</td>\n",
       "                        <td id=\"T_cc524ec6_0e31_11ef_bdbb_96000040dfb6row9_col3\" class=\"data row9 col3\" >4.64%</td>\n",
       "                        <td id=\"T_cc524ec6_0e31_11ef_bdbb_96000040dfb6row9_col4\" class=\"data row9 col4\" >6.12%</td>\n",
       "                        <td id=\"T_cc524ec6_0e31_11ef_bdbb_96000040dfb6row9_col5\" class=\"data row9 col5\" >6.37%</td>\n",
       "                        <td id=\"T_cc524ec6_0e31_11ef_bdbb_96000040dfb6row9_col6\" class=\"data row9 col6\" >6.00%</td>\n",
       "                        <td id=\"T_cc524ec6_0e31_11ef_bdbb_96000040dfb6row9_col7\" class=\"data row9 col7\" >5.07%</td>\n",
       "                        <td id=\"T_cc524ec6_0e31_11ef_bdbb_96000040dfb6row9_col8\" class=\"data row9 col8\" >4.20%</td>\n",
       "                        <td id=\"T_cc524ec6_0e31_11ef_bdbb_96000040dfb6row9_col9\" class=\"data row9 col9\" >5.07%</td>\n",
       "                        <td id=\"T_cc524ec6_0e31_11ef_bdbb_96000040dfb6row9_col10\" class=\"data row9 col10\" >1.24%</td>\n",
       "                        <td id=\"T_cc524ec6_0e31_11ef_bdbb_96000040dfb6row9_col11\" class=\"data row9 col11\" ></td>\n",
       "                        <td id=\"T_cc524ec6_0e31_11ef_bdbb_96000040dfb6row9_col12\" class=\"data row9 col12\" ></td>\n",
       "                        <td id=\"T_cc524ec6_0e31_11ef_bdbb_96000040dfb6row9_col13\" class=\"data row9 col13\" ></td>\n",
       "                        <td id=\"T_cc524ec6_0e31_11ef_bdbb_96000040dfb6row9_col14\" class=\"data row9 col14\" ></td>\n",
       "                        <td id=\"T_cc524ec6_0e31_11ef_bdbb_96000040dfb6row9_col15\" class=\"data row9 col15\" ></td>\n",
       "                        <td id=\"T_cc524ec6_0e31_11ef_bdbb_96000040dfb6row9_col16\" class=\"data row9 col16\" ></td>\n",
       "                        <td id=\"T_cc524ec6_0e31_11ef_bdbb_96000040dfb6row9_col17\" class=\"data row9 col17\" ></td>\n",
       "                        <td id=\"T_cc524ec6_0e31_11ef_bdbb_96000040dfb6row9_col18\" class=\"data row9 col18\" ></td>\n",
       "                        <td id=\"T_cc524ec6_0e31_11ef_bdbb_96000040dfb6row9_col19\" class=\"data row9 col19\" ></td>\n",
       "            </tr>\n",
       "            <tr>\n",
       "                        <th id=\"T_cc524ec6_0e31_11ef_bdbb_96000040dfb6level0_row10\" class=\"row_heading level0 row10\" >2020-09-14</th>\n",
       "                        <td id=\"T_cc524ec6_0e31_11ef_bdbb_96000040dfb6row10_col0\" class=\"data row10 col0\" >1619</td>\n",
       "                        <td id=\"T_cc524ec6_0e31_11ef_bdbb_96000040dfb6row10_col1\" class=\"data row10 col1\" >4.39%</td>\n",
       "                        <td id=\"T_cc524ec6_0e31_11ef_bdbb_96000040dfb6row10_col2\" class=\"data row10 col2\" >3.95%</td>\n",
       "                        <td id=\"T_cc524ec6_0e31_11ef_bdbb_96000040dfb6row10_col3\" class=\"data row10 col3\" >4.45%</td>\n",
       "                        <td id=\"T_cc524ec6_0e31_11ef_bdbb_96000040dfb6row10_col4\" class=\"data row10 col4\" >6.24%</td>\n",
       "                        <td id=\"T_cc524ec6_0e31_11ef_bdbb_96000040dfb6row10_col5\" class=\"data row10 col5\" >6.49%</td>\n",
       "                        <td id=\"T_cc524ec6_0e31_11ef_bdbb_96000040dfb6row10_col6\" class=\"data row10 col6\" >7.66%</td>\n",
       "                        <td id=\"T_cc524ec6_0e31_11ef_bdbb_96000040dfb6row10_col7\" class=\"data row10 col7\" >5.00%</td>\n",
       "                        <td id=\"T_cc524ec6_0e31_11ef_bdbb_96000040dfb6row10_col8\" class=\"data row10 col8\" >3.77%</td>\n",
       "                        <td id=\"T_cc524ec6_0e31_11ef_bdbb_96000040dfb6row10_col9\" class=\"data row10 col9\" >1.05%</td>\n",
       "                        <td id=\"T_cc524ec6_0e31_11ef_bdbb_96000040dfb6row10_col10\" class=\"data row10 col10\" ></td>\n",
       "                        <td id=\"T_cc524ec6_0e31_11ef_bdbb_96000040dfb6row10_col11\" class=\"data row10 col11\" ></td>\n",
       "                        <td id=\"T_cc524ec6_0e31_11ef_bdbb_96000040dfb6row10_col12\" class=\"data row10 col12\" ></td>\n",
       "                        <td id=\"T_cc524ec6_0e31_11ef_bdbb_96000040dfb6row10_col13\" class=\"data row10 col13\" ></td>\n",
       "                        <td id=\"T_cc524ec6_0e31_11ef_bdbb_96000040dfb6row10_col14\" class=\"data row10 col14\" ></td>\n",
       "                        <td id=\"T_cc524ec6_0e31_11ef_bdbb_96000040dfb6row10_col15\" class=\"data row10 col15\" ></td>\n",
       "                        <td id=\"T_cc524ec6_0e31_11ef_bdbb_96000040dfb6row10_col16\" class=\"data row10 col16\" ></td>\n",
       "                        <td id=\"T_cc524ec6_0e31_11ef_bdbb_96000040dfb6row10_col17\" class=\"data row10 col17\" ></td>\n",
       "                        <td id=\"T_cc524ec6_0e31_11ef_bdbb_96000040dfb6row10_col18\" class=\"data row10 col18\" ></td>\n",
       "                        <td id=\"T_cc524ec6_0e31_11ef_bdbb_96000040dfb6row10_col19\" class=\"data row10 col19\" ></td>\n",
       "            </tr>\n",
       "            <tr>\n",
       "                        <th id=\"T_cc524ec6_0e31_11ef_bdbb_96000040dfb6level0_row11\" class=\"row_heading level0 row11\" >2020-09-15</th>\n",
       "                        <td id=\"T_cc524ec6_0e31_11ef_bdbb_96000040dfb6row11_col0\" class=\"data row11 col0\" >1623</td>\n",
       "                        <td id=\"T_cc524ec6_0e31_11ef_bdbb_96000040dfb6row11_col1\" class=\"data row11 col1\" >4.68%</td>\n",
       "                        <td id=\"T_cc524ec6_0e31_11ef_bdbb_96000040dfb6row11_col2\" class=\"data row11 col2\" >3.70%</td>\n",
       "                        <td id=\"T_cc524ec6_0e31_11ef_bdbb_96000040dfb6row11_col3\" class=\"data row11 col3\" >5.79%</td>\n",
       "                        <td id=\"T_cc524ec6_0e31_11ef_bdbb_96000040dfb6row11_col4\" class=\"data row11 col4\" >5.18%</td>\n",
       "                        <td id=\"T_cc524ec6_0e31_11ef_bdbb_96000040dfb6row11_col5\" class=\"data row11 col5\" >5.98%</td>\n",
       "                        <td id=\"T_cc524ec6_0e31_11ef_bdbb_96000040dfb6row11_col6\" class=\"data row11 col6\" >7.76%</td>\n",
       "                        <td id=\"T_cc524ec6_0e31_11ef_bdbb_96000040dfb6row11_col7\" class=\"data row11 col7\" >3.82%</td>\n",
       "                        <td id=\"T_cc524ec6_0e31_11ef_bdbb_96000040dfb6row11_col8\" class=\"data row11 col8\" >0.62%</td>\n",
       "                        <td id=\"T_cc524ec6_0e31_11ef_bdbb_96000040dfb6row11_col9\" class=\"data row11 col9\" ></td>\n",
       "                        <td id=\"T_cc524ec6_0e31_11ef_bdbb_96000040dfb6row11_col10\" class=\"data row11 col10\" ></td>\n",
       "                        <td id=\"T_cc524ec6_0e31_11ef_bdbb_96000040dfb6row11_col11\" class=\"data row11 col11\" ></td>\n",
       "                        <td id=\"T_cc524ec6_0e31_11ef_bdbb_96000040dfb6row11_col12\" class=\"data row11 col12\" ></td>\n",
       "                        <td id=\"T_cc524ec6_0e31_11ef_bdbb_96000040dfb6row11_col13\" class=\"data row11 col13\" ></td>\n",
       "                        <td id=\"T_cc524ec6_0e31_11ef_bdbb_96000040dfb6row11_col14\" class=\"data row11 col14\" ></td>\n",
       "                        <td id=\"T_cc524ec6_0e31_11ef_bdbb_96000040dfb6row11_col15\" class=\"data row11 col15\" ></td>\n",
       "                        <td id=\"T_cc524ec6_0e31_11ef_bdbb_96000040dfb6row11_col16\" class=\"data row11 col16\" ></td>\n",
       "                        <td id=\"T_cc524ec6_0e31_11ef_bdbb_96000040dfb6row11_col17\" class=\"data row11 col17\" ></td>\n",
       "                        <td id=\"T_cc524ec6_0e31_11ef_bdbb_96000040dfb6row11_col18\" class=\"data row11 col18\" ></td>\n",
       "                        <td id=\"T_cc524ec6_0e31_11ef_bdbb_96000040dfb6row11_col19\" class=\"data row11 col19\" ></td>\n",
       "            </tr>\n",
       "            <tr>\n",
       "                        <th id=\"T_cc524ec6_0e31_11ef_bdbb_96000040dfb6level0_row12\" class=\"row_heading level0 row12\" >2020-09-16</th>\n",
       "                        <td id=\"T_cc524ec6_0e31_11ef_bdbb_96000040dfb6row12_col0\" class=\"data row12 col0\" >1625</td>\n",
       "                        <td id=\"T_cc524ec6_0e31_11ef_bdbb_96000040dfb6row12_col1\" class=\"data row12 col1\" >4.12%</td>\n",
       "                        <td id=\"T_cc524ec6_0e31_11ef_bdbb_96000040dfb6row12_col2\" class=\"data row12 col2\" >3.75%</td>\n",
       "                        <td id=\"T_cc524ec6_0e31_11ef_bdbb_96000040dfb6row12_col3\" class=\"data row12 col3\" >4.68%</td>\n",
       "                        <td id=\"T_cc524ec6_0e31_11ef_bdbb_96000040dfb6row12_col4\" class=\"data row12 col4\" >6.34%</td>\n",
       "                        <td id=\"T_cc524ec6_0e31_11ef_bdbb_96000040dfb6row12_col5\" class=\"data row12 col5\" >7.08%</td>\n",
       "                        <td id=\"T_cc524ec6_0e31_11ef_bdbb_96000040dfb6row12_col6\" class=\"data row12 col6\" >5.91%</td>\n",
       "                        <td id=\"T_cc524ec6_0e31_11ef_bdbb_96000040dfb6row12_col7\" class=\"data row12 col7\" >0.68%</td>\n",
       "                        <td id=\"T_cc524ec6_0e31_11ef_bdbb_96000040dfb6row12_col8\" class=\"data row12 col8\" ></td>\n",
       "                        <td id=\"T_cc524ec6_0e31_11ef_bdbb_96000040dfb6row12_col9\" class=\"data row12 col9\" ></td>\n",
       "                        <td id=\"T_cc524ec6_0e31_11ef_bdbb_96000040dfb6row12_col10\" class=\"data row12 col10\" ></td>\n",
       "                        <td id=\"T_cc524ec6_0e31_11ef_bdbb_96000040dfb6row12_col11\" class=\"data row12 col11\" ></td>\n",
       "                        <td id=\"T_cc524ec6_0e31_11ef_bdbb_96000040dfb6row12_col12\" class=\"data row12 col12\" ></td>\n",
       "                        <td id=\"T_cc524ec6_0e31_11ef_bdbb_96000040dfb6row12_col13\" class=\"data row12 col13\" ></td>\n",
       "                        <td id=\"T_cc524ec6_0e31_11ef_bdbb_96000040dfb6row12_col14\" class=\"data row12 col14\" ></td>\n",
       "                        <td id=\"T_cc524ec6_0e31_11ef_bdbb_96000040dfb6row12_col15\" class=\"data row12 col15\" ></td>\n",
       "                        <td id=\"T_cc524ec6_0e31_11ef_bdbb_96000040dfb6row12_col16\" class=\"data row12 col16\" ></td>\n",
       "                        <td id=\"T_cc524ec6_0e31_11ef_bdbb_96000040dfb6row12_col17\" class=\"data row12 col17\" ></td>\n",
       "                        <td id=\"T_cc524ec6_0e31_11ef_bdbb_96000040dfb6row12_col18\" class=\"data row12 col18\" ></td>\n",
       "                        <td id=\"T_cc524ec6_0e31_11ef_bdbb_96000040dfb6row12_col19\" class=\"data row12 col19\" ></td>\n",
       "            </tr>\n",
       "            <tr>\n",
       "                        <th id=\"T_cc524ec6_0e31_11ef_bdbb_96000040dfb6level0_row13\" class=\"row_heading level0 row13\" >2020-09-17</th>\n",
       "                        <td id=\"T_cc524ec6_0e31_11ef_bdbb_96000040dfb6row13_col0\" class=\"data row13 col0\" >1628</td>\n",
       "                        <td id=\"T_cc524ec6_0e31_11ef_bdbb_96000040dfb6row13_col1\" class=\"data row13 col1\" >3.81%</td>\n",
       "                        <td id=\"T_cc524ec6_0e31_11ef_bdbb_96000040dfb6row13_col2\" class=\"data row13 col2\" >4.12%</td>\n",
       "                        <td id=\"T_cc524ec6_0e31_11ef_bdbb_96000040dfb6row13_col3\" class=\"data row13 col3\" >5.16%</td>\n",
       "                        <td id=\"T_cc524ec6_0e31_11ef_bdbb_96000040dfb6row13_col4\" class=\"data row13 col4\" >5.90%</td>\n",
       "                        <td id=\"T_cc524ec6_0e31_11ef_bdbb_96000040dfb6row13_col5\" class=\"data row13 col5\" >5.77%</td>\n",
       "                        <td id=\"T_cc524ec6_0e31_11ef_bdbb_96000040dfb6row13_col6\" class=\"data row13 col6\" >1.72%</td>\n",
       "                        <td id=\"T_cc524ec6_0e31_11ef_bdbb_96000040dfb6row13_col7\" class=\"data row13 col7\" ></td>\n",
       "                        <td id=\"T_cc524ec6_0e31_11ef_bdbb_96000040dfb6row13_col8\" class=\"data row13 col8\" ></td>\n",
       "                        <td id=\"T_cc524ec6_0e31_11ef_bdbb_96000040dfb6row13_col9\" class=\"data row13 col9\" ></td>\n",
       "                        <td id=\"T_cc524ec6_0e31_11ef_bdbb_96000040dfb6row13_col10\" class=\"data row13 col10\" ></td>\n",
       "                        <td id=\"T_cc524ec6_0e31_11ef_bdbb_96000040dfb6row13_col11\" class=\"data row13 col11\" ></td>\n",
       "                        <td id=\"T_cc524ec6_0e31_11ef_bdbb_96000040dfb6row13_col12\" class=\"data row13 col12\" ></td>\n",
       "                        <td id=\"T_cc524ec6_0e31_11ef_bdbb_96000040dfb6row13_col13\" class=\"data row13 col13\" ></td>\n",
       "                        <td id=\"T_cc524ec6_0e31_11ef_bdbb_96000040dfb6row13_col14\" class=\"data row13 col14\" ></td>\n",
       "                        <td id=\"T_cc524ec6_0e31_11ef_bdbb_96000040dfb6row13_col15\" class=\"data row13 col15\" ></td>\n",
       "                        <td id=\"T_cc524ec6_0e31_11ef_bdbb_96000040dfb6row13_col16\" class=\"data row13 col16\" ></td>\n",
       "                        <td id=\"T_cc524ec6_0e31_11ef_bdbb_96000040dfb6row13_col17\" class=\"data row13 col17\" ></td>\n",
       "                        <td id=\"T_cc524ec6_0e31_11ef_bdbb_96000040dfb6row13_col18\" class=\"data row13 col18\" ></td>\n",
       "                        <td id=\"T_cc524ec6_0e31_11ef_bdbb_96000040dfb6row13_col19\" class=\"data row13 col19\" ></td>\n",
       "            </tr>\n",
       "            <tr>\n",
       "                        <th id=\"T_cc524ec6_0e31_11ef_bdbb_96000040dfb6level0_row14\" class=\"row_heading level0 row14\" >2020-09-18</th>\n",
       "                        <td id=\"T_cc524ec6_0e31_11ef_bdbb_96000040dfb6row14_col0\" class=\"data row14 col0\" >1630</td>\n",
       "                        <td id=\"T_cc524ec6_0e31_11ef_bdbb_96000040dfb6row14_col1\" class=\"data row14 col1\" >4.23%</td>\n",
       "                        <td id=\"T_cc524ec6_0e31_11ef_bdbb_96000040dfb6row14_col2\" class=\"data row14 col2\" >3.87%</td>\n",
       "                        <td id=\"T_cc524ec6_0e31_11ef_bdbb_96000040dfb6row14_col3\" class=\"data row14 col3\" >5.58%</td>\n",
       "                        <td id=\"T_cc524ec6_0e31_11ef_bdbb_96000040dfb6row14_col4\" class=\"data row14 col4\" >4.72%</td>\n",
       "                        <td id=\"T_cc524ec6_0e31_11ef_bdbb_96000040dfb6row14_col5\" class=\"data row14 col5\" >1.23%</td>\n",
       "                        <td id=\"T_cc524ec6_0e31_11ef_bdbb_96000040dfb6row14_col6\" class=\"data row14 col6\" ></td>\n",
       "                        <td id=\"T_cc524ec6_0e31_11ef_bdbb_96000040dfb6row14_col7\" class=\"data row14 col7\" ></td>\n",
       "                        <td id=\"T_cc524ec6_0e31_11ef_bdbb_96000040dfb6row14_col8\" class=\"data row14 col8\" ></td>\n",
       "                        <td id=\"T_cc524ec6_0e31_11ef_bdbb_96000040dfb6row14_col9\" class=\"data row14 col9\" ></td>\n",
       "                        <td id=\"T_cc524ec6_0e31_11ef_bdbb_96000040dfb6row14_col10\" class=\"data row14 col10\" ></td>\n",
       "                        <td id=\"T_cc524ec6_0e31_11ef_bdbb_96000040dfb6row14_col11\" class=\"data row14 col11\" ></td>\n",
       "                        <td id=\"T_cc524ec6_0e31_11ef_bdbb_96000040dfb6row14_col12\" class=\"data row14 col12\" ></td>\n",
       "                        <td id=\"T_cc524ec6_0e31_11ef_bdbb_96000040dfb6row14_col13\" class=\"data row14 col13\" ></td>\n",
       "                        <td id=\"T_cc524ec6_0e31_11ef_bdbb_96000040dfb6row14_col14\" class=\"data row14 col14\" ></td>\n",
       "                        <td id=\"T_cc524ec6_0e31_11ef_bdbb_96000040dfb6row14_col15\" class=\"data row14 col15\" ></td>\n",
       "                        <td id=\"T_cc524ec6_0e31_11ef_bdbb_96000040dfb6row14_col16\" class=\"data row14 col16\" ></td>\n",
       "                        <td id=\"T_cc524ec6_0e31_11ef_bdbb_96000040dfb6row14_col17\" class=\"data row14 col17\" ></td>\n",
       "                        <td id=\"T_cc524ec6_0e31_11ef_bdbb_96000040dfb6row14_col18\" class=\"data row14 col18\" ></td>\n",
       "                        <td id=\"T_cc524ec6_0e31_11ef_bdbb_96000040dfb6row14_col19\" class=\"data row14 col19\" ></td>\n",
       "            </tr>\n",
       "            <tr>\n",
       "                        <th id=\"T_cc524ec6_0e31_11ef_bdbb_96000040dfb6level0_row15\" class=\"row_heading level0 row15\" >2020-09-19</th>\n",
       "                        <td id=\"T_cc524ec6_0e31_11ef_bdbb_96000040dfb6row15_col0\" class=\"data row15 col0\" >1634</td>\n",
       "                        <td id=\"T_cc524ec6_0e31_11ef_bdbb_96000040dfb6row15_col1\" class=\"data row15 col1\" >3.79%</td>\n",
       "                        <td id=\"T_cc524ec6_0e31_11ef_bdbb_96000040dfb6row15_col2\" class=\"data row15 col2\" >3.73%</td>\n",
       "                        <td id=\"T_cc524ec6_0e31_11ef_bdbb_96000040dfb6row15_col3\" class=\"data row15 col3\" >4.77%</td>\n",
       "                        <td id=\"T_cc524ec6_0e31_11ef_bdbb_96000040dfb6row15_col4\" class=\"data row15 col4\" >1.29%</td>\n",
       "                        <td id=\"T_cc524ec6_0e31_11ef_bdbb_96000040dfb6row15_col5\" class=\"data row15 col5\" ></td>\n",
       "                        <td id=\"T_cc524ec6_0e31_11ef_bdbb_96000040dfb6row15_col6\" class=\"data row15 col6\" ></td>\n",
       "                        <td id=\"T_cc524ec6_0e31_11ef_bdbb_96000040dfb6row15_col7\" class=\"data row15 col7\" ></td>\n",
       "                        <td id=\"T_cc524ec6_0e31_11ef_bdbb_96000040dfb6row15_col8\" class=\"data row15 col8\" ></td>\n",
       "                        <td id=\"T_cc524ec6_0e31_11ef_bdbb_96000040dfb6row15_col9\" class=\"data row15 col9\" ></td>\n",
       "                        <td id=\"T_cc524ec6_0e31_11ef_bdbb_96000040dfb6row15_col10\" class=\"data row15 col10\" ></td>\n",
       "                        <td id=\"T_cc524ec6_0e31_11ef_bdbb_96000040dfb6row15_col11\" class=\"data row15 col11\" ></td>\n",
       "                        <td id=\"T_cc524ec6_0e31_11ef_bdbb_96000040dfb6row15_col12\" class=\"data row15 col12\" ></td>\n",
       "                        <td id=\"T_cc524ec6_0e31_11ef_bdbb_96000040dfb6row15_col13\" class=\"data row15 col13\" ></td>\n",
       "                        <td id=\"T_cc524ec6_0e31_11ef_bdbb_96000040dfb6row15_col14\" class=\"data row15 col14\" ></td>\n",
       "                        <td id=\"T_cc524ec6_0e31_11ef_bdbb_96000040dfb6row15_col15\" class=\"data row15 col15\" ></td>\n",
       "                        <td id=\"T_cc524ec6_0e31_11ef_bdbb_96000040dfb6row15_col16\" class=\"data row15 col16\" ></td>\n",
       "                        <td id=\"T_cc524ec6_0e31_11ef_bdbb_96000040dfb6row15_col17\" class=\"data row15 col17\" ></td>\n",
       "                        <td id=\"T_cc524ec6_0e31_11ef_bdbb_96000040dfb6row15_col18\" class=\"data row15 col18\" ></td>\n",
       "                        <td id=\"T_cc524ec6_0e31_11ef_bdbb_96000040dfb6row15_col19\" class=\"data row15 col19\" ></td>\n",
       "            </tr>\n",
       "            <tr>\n",
       "                        <th id=\"T_cc524ec6_0e31_11ef_bdbb_96000040dfb6level0_row16\" class=\"row_heading level0 row16\" >2020-09-20</th>\n",
       "                        <td id=\"T_cc524ec6_0e31_11ef_bdbb_96000040dfb6row16_col0\" class=\"data row16 col0\" >1636</td>\n",
       "                        <td id=\"T_cc524ec6_0e31_11ef_bdbb_96000040dfb6row16_col1\" class=\"data row16 col1\" >4.34%</td>\n",
       "                        <td id=\"T_cc524ec6_0e31_11ef_bdbb_96000040dfb6row16_col2\" class=\"data row16 col2\" >3.73%</td>\n",
       "                        <td id=\"T_cc524ec6_0e31_11ef_bdbb_96000040dfb6row16_col3\" class=\"data row16 col3\" >1.10%</td>\n",
       "                        <td id=\"T_cc524ec6_0e31_11ef_bdbb_96000040dfb6row16_col4\" class=\"data row16 col4\" ></td>\n",
       "                        <td id=\"T_cc524ec6_0e31_11ef_bdbb_96000040dfb6row16_col5\" class=\"data row16 col5\" ></td>\n",
       "                        <td id=\"T_cc524ec6_0e31_11ef_bdbb_96000040dfb6row16_col6\" class=\"data row16 col6\" ></td>\n",
       "                        <td id=\"T_cc524ec6_0e31_11ef_bdbb_96000040dfb6row16_col7\" class=\"data row16 col7\" ></td>\n",
       "                        <td id=\"T_cc524ec6_0e31_11ef_bdbb_96000040dfb6row16_col8\" class=\"data row16 col8\" ></td>\n",
       "                        <td id=\"T_cc524ec6_0e31_11ef_bdbb_96000040dfb6row16_col9\" class=\"data row16 col9\" ></td>\n",
       "                        <td id=\"T_cc524ec6_0e31_11ef_bdbb_96000040dfb6row16_col10\" class=\"data row16 col10\" ></td>\n",
       "                        <td id=\"T_cc524ec6_0e31_11ef_bdbb_96000040dfb6row16_col11\" class=\"data row16 col11\" ></td>\n",
       "                        <td id=\"T_cc524ec6_0e31_11ef_bdbb_96000040dfb6row16_col12\" class=\"data row16 col12\" ></td>\n",
       "                        <td id=\"T_cc524ec6_0e31_11ef_bdbb_96000040dfb6row16_col13\" class=\"data row16 col13\" ></td>\n",
       "                        <td id=\"T_cc524ec6_0e31_11ef_bdbb_96000040dfb6row16_col14\" class=\"data row16 col14\" ></td>\n",
       "                        <td id=\"T_cc524ec6_0e31_11ef_bdbb_96000040dfb6row16_col15\" class=\"data row16 col15\" ></td>\n",
       "                        <td id=\"T_cc524ec6_0e31_11ef_bdbb_96000040dfb6row16_col16\" class=\"data row16 col16\" ></td>\n",
       "                        <td id=\"T_cc524ec6_0e31_11ef_bdbb_96000040dfb6row16_col17\" class=\"data row16 col17\" ></td>\n",
       "                        <td id=\"T_cc524ec6_0e31_11ef_bdbb_96000040dfb6row16_col18\" class=\"data row16 col18\" ></td>\n",
       "                        <td id=\"T_cc524ec6_0e31_11ef_bdbb_96000040dfb6row16_col19\" class=\"data row16 col19\" ></td>\n",
       "            </tr>\n",
       "            <tr>\n",
       "                        <th id=\"T_cc524ec6_0e31_11ef_bdbb_96000040dfb6level0_row17\" class=\"row_heading level0 row17\" >2020-09-21</th>\n",
       "                        <td id=\"T_cc524ec6_0e31_11ef_bdbb_96000040dfb6row17_col0\" class=\"data row17 col0\" >1638</td>\n",
       "                        <td id=\"T_cc524ec6_0e31_11ef_bdbb_96000040dfb6row17_col1\" class=\"data row17 col1\" >4.15%</td>\n",
       "                        <td id=\"T_cc524ec6_0e31_11ef_bdbb_96000040dfb6row17_col2\" class=\"data row17 col2\" >0.73%</td>\n",
       "                        <td id=\"T_cc524ec6_0e31_11ef_bdbb_96000040dfb6row17_col3\" class=\"data row17 col3\" ></td>\n",
       "                        <td id=\"T_cc524ec6_0e31_11ef_bdbb_96000040dfb6row17_col4\" class=\"data row17 col4\" ></td>\n",
       "                        <td id=\"T_cc524ec6_0e31_11ef_bdbb_96000040dfb6row17_col5\" class=\"data row17 col5\" ></td>\n",
       "                        <td id=\"T_cc524ec6_0e31_11ef_bdbb_96000040dfb6row17_col6\" class=\"data row17 col6\" ></td>\n",
       "                        <td id=\"T_cc524ec6_0e31_11ef_bdbb_96000040dfb6row17_col7\" class=\"data row17 col7\" ></td>\n",
       "                        <td id=\"T_cc524ec6_0e31_11ef_bdbb_96000040dfb6row17_col8\" class=\"data row17 col8\" ></td>\n",
       "                        <td id=\"T_cc524ec6_0e31_11ef_bdbb_96000040dfb6row17_col9\" class=\"data row17 col9\" ></td>\n",
       "                        <td id=\"T_cc524ec6_0e31_11ef_bdbb_96000040dfb6row17_col10\" class=\"data row17 col10\" ></td>\n",
       "                        <td id=\"T_cc524ec6_0e31_11ef_bdbb_96000040dfb6row17_col11\" class=\"data row17 col11\" ></td>\n",
       "                        <td id=\"T_cc524ec6_0e31_11ef_bdbb_96000040dfb6row17_col12\" class=\"data row17 col12\" ></td>\n",
       "                        <td id=\"T_cc524ec6_0e31_11ef_bdbb_96000040dfb6row17_col13\" class=\"data row17 col13\" ></td>\n",
       "                        <td id=\"T_cc524ec6_0e31_11ef_bdbb_96000040dfb6row17_col14\" class=\"data row17 col14\" ></td>\n",
       "                        <td id=\"T_cc524ec6_0e31_11ef_bdbb_96000040dfb6row17_col15\" class=\"data row17 col15\" ></td>\n",
       "                        <td id=\"T_cc524ec6_0e31_11ef_bdbb_96000040dfb6row17_col16\" class=\"data row17 col16\" ></td>\n",
       "                        <td id=\"T_cc524ec6_0e31_11ef_bdbb_96000040dfb6row17_col17\" class=\"data row17 col17\" ></td>\n",
       "                        <td id=\"T_cc524ec6_0e31_11ef_bdbb_96000040dfb6row17_col18\" class=\"data row17 col18\" ></td>\n",
       "                        <td id=\"T_cc524ec6_0e31_11ef_bdbb_96000040dfb6row17_col19\" class=\"data row17 col19\" ></td>\n",
       "            </tr>\n",
       "            <tr>\n",
       "                        <th id=\"T_cc524ec6_0e31_11ef_bdbb_96000040dfb6level0_row18\" class=\"row_heading level0 row18\" >2020-09-22</th>\n",
       "                        <td id=\"T_cc524ec6_0e31_11ef_bdbb_96000040dfb6row18_col0\" class=\"data row18 col0\" >1641</td>\n",
       "                        <td id=\"T_cc524ec6_0e31_11ef_bdbb_96000040dfb6row18_col1\" class=\"data row18 col1\" >0.85%</td>\n",
       "                        <td id=\"T_cc524ec6_0e31_11ef_bdbb_96000040dfb6row18_col2\" class=\"data row18 col2\" ></td>\n",
       "                        <td id=\"T_cc524ec6_0e31_11ef_bdbb_96000040dfb6row18_col3\" class=\"data row18 col3\" ></td>\n",
       "                        <td id=\"T_cc524ec6_0e31_11ef_bdbb_96000040dfb6row18_col4\" class=\"data row18 col4\" ></td>\n",
       "                        <td id=\"T_cc524ec6_0e31_11ef_bdbb_96000040dfb6row18_col5\" class=\"data row18 col5\" ></td>\n",
       "                        <td id=\"T_cc524ec6_0e31_11ef_bdbb_96000040dfb6row18_col6\" class=\"data row18 col6\" ></td>\n",
       "                        <td id=\"T_cc524ec6_0e31_11ef_bdbb_96000040dfb6row18_col7\" class=\"data row18 col7\" ></td>\n",
       "                        <td id=\"T_cc524ec6_0e31_11ef_bdbb_96000040dfb6row18_col8\" class=\"data row18 col8\" ></td>\n",
       "                        <td id=\"T_cc524ec6_0e31_11ef_bdbb_96000040dfb6row18_col9\" class=\"data row18 col9\" ></td>\n",
       "                        <td id=\"T_cc524ec6_0e31_11ef_bdbb_96000040dfb6row18_col10\" class=\"data row18 col10\" ></td>\n",
       "                        <td id=\"T_cc524ec6_0e31_11ef_bdbb_96000040dfb6row18_col11\" class=\"data row18 col11\" ></td>\n",
       "                        <td id=\"T_cc524ec6_0e31_11ef_bdbb_96000040dfb6row18_col12\" class=\"data row18 col12\" ></td>\n",
       "                        <td id=\"T_cc524ec6_0e31_11ef_bdbb_96000040dfb6row18_col13\" class=\"data row18 col13\" ></td>\n",
       "                        <td id=\"T_cc524ec6_0e31_11ef_bdbb_96000040dfb6row18_col14\" class=\"data row18 col14\" ></td>\n",
       "                        <td id=\"T_cc524ec6_0e31_11ef_bdbb_96000040dfb6row18_col15\" class=\"data row18 col15\" ></td>\n",
       "                        <td id=\"T_cc524ec6_0e31_11ef_bdbb_96000040dfb6row18_col16\" class=\"data row18 col16\" ></td>\n",
       "                        <td id=\"T_cc524ec6_0e31_11ef_bdbb_96000040dfb6row18_col17\" class=\"data row18 col17\" ></td>\n",
       "                        <td id=\"T_cc524ec6_0e31_11ef_bdbb_96000040dfb6row18_col18\" class=\"data row18 col18\" ></td>\n",
       "                        <td id=\"T_cc524ec6_0e31_11ef_bdbb_96000040dfb6row18_col19\" class=\"data row18 col19\" ></td>\n",
       "            </tr>\n",
       "    </tbody></table>"
      ],
      "text/plain": [
       "<pandas.io.formats.style.Styler at 0x7f8f6ba61eb8>"
      ]
     },
     "execution_count": 19,
     "metadata": {},
     "output_type": "execute_result"
    }
   ],
   "source": [
    "def retention(df_1, df_2, start, end, how):\n",
    "\n",
    "    df_1[\"reg_ts\"] = pd.to_datetime(df_1[\"reg_ts\"], unit=\"s\")  # меняем формат из unix\n",
    "    df_2[\"auth_ts\"] = pd.to_datetime(df_2[\"auth_ts\"], unit=\"s\")  # меняем формат из unix\n",
    "    \n",
    "    '''объединяем данные с учетом периода'''\n",
    "    df = df_1.loc[(df_1.reg_ts > start) & (df_1.reg_ts < end)].merge(\n",
    "        df_2, on=\"uid\"\n",
    "    )  \n",
    "    \n",
    "    '''определяем интересующий диапазон времени'''\n",
    "    df_need = df.reset_index().drop(\n",
    "        columns=\"index\"\n",
    "    ) \n",
    "    \n",
    "    '''считаем период в днях'''\n",
    "    df_need[\"period\"] = (\n",
    "        df_need[\"auth_ts\"] - df_need[\"reg_ts\"]\n",
    "    ).dt.days  \n",
    "\n",
    "    '''Далее конструкция определения когорты в зависимости от D, W, M'''\n",
    "    if how == \"D\":\n",
    "        df_need[\"reg_ts\"] = df_need[\"reg_ts\"].dt.date  # приводим когорту ко дню\n",
    "    elif how == \"W\":\n",
    "        df_need[\"reg_ts\"] = (\n",
    "            df_need[\"reg_ts\"]\n",
    "            .dt.to_period(\"W\")\n",
    "            .apply(lambda x: x.start_time)\n",
    "            .dt.strftime(\"%Y-%m-%d\")\n",
    "        )  # приводим когорту к неделе\n",
    "    elif how == \"M\":\n",
    "        df_need[\"reg_ts\"] = df_need[\"reg_ts\"].dt.to_period(\n",
    "            \"M\"\n",
    "        )  # приводим когорту к месяцу\n",
    "\n",
    "    '''Подготавливаем данные для расчета RR'''\n",
    "    df_users = (\n",
    "        df_need.groupby([\"reg_ts\", \"period\"])\n",
    "        .agg({\"uid\": \"nunique\"})\n",
    "        .reset_index()\n",
    "        .rename(columns={\"reg_ts\": \"cohort\"})\n",
    "    )\n",
    "    \n",
    "    '''Рассчитываем RR в долях'''\n",
    "    cohort_names = list(df_users.cohort.unique())\n",
    "    result = []\n",
    "    for c in cohort_names:\n",
    "        result.append(\n",
    "            list(\n",
    "                df_users.loc[df_users.cohort == c].uid\n",
    "                / df_users.loc[df_users.cohort == c].uid.iloc[0]\n",
    "            )\n",
    "        )\n",
    "\n",
    "    result_retention = result\n",
    "\n",
    "    retention_percent = []\n",
    "    for lst in result_retention:\n",
    "        for value in lst:\n",
    "            retention_percent.append(value)\n",
    "    \n",
    "    '''Добавляем RR таблицу'''\n",
    "    df_users[\"retention\"] = retention_percent  # \n",
    "    \n",
    "    '''Определяем период'''\n",
    "    nperiod = (\n",
    "        pd.to_datetime(end) - pd.to_datetime(start)\n",
    "    ).total_seconds() / 86400  \n",
    "\n",
    "    '''Создаем сводную таблицу'''\n",
    "    df_cohorts_pivot = df_users.query(\"period <= @nperiod & period != 0\").pivot(\n",
    "        index=\"cohort\", columns=\"period\", values=\"retention\"\n",
    "    )\n",
    "    \n",
    "    '''Создаем фрейм с размером когорты'''\n",
    "    df_cohort_size = df_users \\\n",
    "        .groupby('cohort') \\\n",
    "        .agg({'uid': 'max'}) \\\n",
    "        .rename(columns={'uid': 'cohort_size'})\n",
    "    \n",
    "    df_cohort_size = list(df_cohort_size.cohort_size)\n",
    "    \n",
    "    '''Вставляем размер когорты в сводную таблицу'''\n",
    "    df_cohorts_pivot.insert(loc= 0,\n",
    "          column= 'cohort_size',\n",
    "          value= df_cohort_size)\n",
    "    \n",
    "    '''Меняем стиль вывода данных'''\n",
    "    ur_style = (\n",
    "        df_cohorts_pivot.style.set_caption(\n",
    "            \"User retention by cohort\"\n",
    "        )  # добавляем подпись\n",
    "        .background_gradient(cmap=\"twilight\")  # раскрашиваем ячейки по столбцам\n",
    "        .highlight_null(\"white\")  # делаем белый фон для значений NaN\n",
    "        .format(\n",
    "            \"{:.2%}\", subset=[i for i in range(1, int(nperiod) + 1)], na_rep=\"\"\n",
    "        )  # числа форматируем как проценты, NaN заменяем на пустоту\n",
    "    )\n",
    "    return ur_style\n",
    "\n",
    "retention(df_reg_data, df_auth_data, \"2020-09-04\", \"2020-09-23\", \"D\")\n"
   ]
  },
  {
   "cell_type": "markdown",
   "metadata": {},
   "source": [
    "### Задание 2\n",
    "Имеются результаты A/B теста, в котором двум группам пользователей предлагались различные наборы акционных предложений. Известно, что ARPU в тестовой группе выше на 5%, чем в контрольной. При этом в контрольной группе 1928 игроков из 202103 оказались платящими, а в тестовой – 1805 из 202667.\n",
    "\n",
    "Какой набор предложений можно считать лучшим? Какие метрики стоит проанализировать для принятия правильного решения и как?\n"
   ]
  },
  {
   "cell_type": "markdown",
   "metadata": {},
   "source": [
    "### Загрузим данные и разделим на тестовую и контрольную группы:"
   ]
  },
  {
   "cell_type": "code",
   "execution_count": 20,
   "metadata": {},
   "outputs": [],
   "source": [
    "base_url = 'https://cloud-api.yandex.net/v1/disk/public/resources/download?' \n",
    "def df_reader(public_key_df):\n",
    "    final_url_customers = base_url + urlencode(dict(public_key=public_key_df))\n",
    "    return pd.read_csv(requests.get(final_url_customers).json()['href'], sep=';')"
   ]
  },
  {
   "cell_type": "code",
   "execution_count": 21,
   "metadata": {},
   "outputs": [],
   "source": [
    "df_data = df_reader('https://disk.yandex.ru/d/SOkIsD5A8xlI7Q')"
   ]
  },
  {
   "cell_type": "code",
   "execution_count": 22,
   "metadata": {},
   "outputs": [],
   "source": [
    "#df_data = pd.read_csv('/mnt/HC_Volume_18315164/home-jupyter/jupyter-igo-alekseev/Проект_1_Задание_2.csv', sep=';')"
   ]
  },
  {
   "cell_type": "code",
   "execution_count": 23,
   "metadata": {},
   "outputs": [],
   "source": [
    "df_control_group = df_data.query('testgroup == \"a\"')"
   ]
  },
  {
   "cell_type": "code",
   "execution_count": 24,
   "metadata": {},
   "outputs": [],
   "source": [
    "df_test_group = df_data.query('testgroup == \"b\"')"
   ]
  },
  {
   "cell_type": "markdown",
   "metadata": {},
   "source": [
    "### Проведем EDA:"
   ]
  },
  {
   "cell_type": "code",
   "execution_count": 25,
   "metadata": {
    "scrolled": true
   },
   "outputs": [
    {
     "data": {
      "text/html": [
       "<div>\n",
       "<style scoped>\n",
       "    .dataframe tbody tr th:only-of-type {\n",
       "        vertical-align: middle;\n",
       "    }\n",
       "\n",
       "    .dataframe tbody tr th {\n",
       "        vertical-align: top;\n",
       "    }\n",
       "\n",
       "    .dataframe thead th {\n",
       "        text-align: right;\n",
       "    }\n",
       "</style>\n",
       "<table border=\"1\" class=\"dataframe\">\n",
       "  <thead>\n",
       "    <tr style=\"text-align: right;\">\n",
       "      <th></th>\n",
       "      <th>user_id</th>\n",
       "      <th>revenue</th>\n",
       "      <th>testgroup</th>\n",
       "    </tr>\n",
       "  </thead>\n",
       "  <tbody>\n",
       "    <tr>\n",
       "      <th>1</th>\n",
       "      <td>2</td>\n",
       "      <td>0</td>\n",
       "      <td>a</td>\n",
       "    </tr>\n",
       "    <tr>\n",
       "      <th>2</th>\n",
       "      <td>3</td>\n",
       "      <td>0</td>\n",
       "      <td>a</td>\n",
       "    </tr>\n",
       "    <tr>\n",
       "      <th>9</th>\n",
       "      <td>10</td>\n",
       "      <td>0</td>\n",
       "      <td>a</td>\n",
       "    </tr>\n",
       "    <tr>\n",
       "      <th>10</th>\n",
       "      <td>11</td>\n",
       "      <td>0</td>\n",
       "      <td>a</td>\n",
       "    </tr>\n",
       "    <tr>\n",
       "      <th>11</th>\n",
       "      <td>12</td>\n",
       "      <td>0</td>\n",
       "      <td>a</td>\n",
       "    </tr>\n",
       "  </tbody>\n",
       "</table>\n",
       "</div>"
      ],
      "text/plain": [
       "    user_id  revenue testgroup\n",
       "1         2        0         a\n",
       "2         3        0         a\n",
       "9        10        0         a\n",
       "10       11        0         a\n",
       "11       12        0         a"
      ]
     },
     "execution_count": 25,
     "metadata": {},
     "output_type": "execute_result"
    }
   ],
   "source": [
    "df_control_group.head()"
   ]
  },
  {
   "cell_type": "code",
   "execution_count": 26,
   "metadata": {
    "scrolled": true
   },
   "outputs": [
    {
     "data": {
      "text/plain": [
       "(202103, 3)"
      ]
     },
     "execution_count": 26,
     "metadata": {},
     "output_type": "execute_result"
    }
   ],
   "source": [
    "df_control_group.shape"
   ]
  },
  {
   "cell_type": "code",
   "execution_count": 27,
   "metadata": {},
   "outputs": [
    {
     "data": {
      "text/plain": [
       "user_id       int64\n",
       "revenue       int64\n",
       "testgroup    object\n",
       "dtype: object"
      ]
     },
     "execution_count": 27,
     "metadata": {},
     "output_type": "execute_result"
    }
   ],
   "source": [
    "df_control_group.dtypes"
   ]
  },
  {
   "cell_type": "code",
   "execution_count": 28,
   "metadata": {},
   "outputs": [
    {
     "data": {
      "text/html": [
       "<div>\n",
       "<style scoped>\n",
       "    .dataframe tbody tr th:only-of-type {\n",
       "        vertical-align: middle;\n",
       "    }\n",
       "\n",
       "    .dataframe tbody tr th {\n",
       "        vertical-align: top;\n",
       "    }\n",
       "\n",
       "    .dataframe thead th {\n",
       "        text-align: right;\n",
       "    }\n",
       "</style>\n",
       "<table border=\"1\" class=\"dataframe\">\n",
       "  <thead>\n",
       "    <tr style=\"text-align: right;\">\n",
       "      <th></th>\n",
       "      <th>user_id</th>\n",
       "      <th>revenue</th>\n",
       "    </tr>\n",
       "  </thead>\n",
       "  <tbody>\n",
       "    <tr>\n",
       "      <th>count</th>\n",
       "      <td>202103.000000</td>\n",
       "      <td>202103.000000</td>\n",
       "    </tr>\n",
       "    <tr>\n",
       "      <th>mean</th>\n",
       "      <td>202555.909843</td>\n",
       "      <td>25.413720</td>\n",
       "    </tr>\n",
       "    <tr>\n",
       "      <th>std</th>\n",
       "      <td>116802.329266</td>\n",
       "      <td>920.768137</td>\n",
       "    </tr>\n",
       "    <tr>\n",
       "      <th>min</th>\n",
       "      <td>2.000000</td>\n",
       "      <td>0.000000</td>\n",
       "    </tr>\n",
       "    <tr>\n",
       "      <th>25%</th>\n",
       "      <td>101502.500000</td>\n",
       "      <td>0.000000</td>\n",
       "    </tr>\n",
       "    <tr>\n",
       "      <th>50%</th>\n",
       "      <td>202988.000000</td>\n",
       "      <td>0.000000</td>\n",
       "    </tr>\n",
       "    <tr>\n",
       "      <th>75%</th>\n",
       "      <td>303559.000000</td>\n",
       "      <td>0.000000</td>\n",
       "    </tr>\n",
       "    <tr>\n",
       "      <th>max</th>\n",
       "      <td>404769.000000</td>\n",
       "      <td>37433.000000</td>\n",
       "    </tr>\n",
       "  </tbody>\n",
       "</table>\n",
       "</div>"
      ],
      "text/plain": [
       "             user_id        revenue\n",
       "count  202103.000000  202103.000000\n",
       "mean   202555.909843      25.413720\n",
       "std    116802.329266     920.768137\n",
       "min         2.000000       0.000000\n",
       "25%    101502.500000       0.000000\n",
       "50%    202988.000000       0.000000\n",
       "75%    303559.000000       0.000000\n",
       "max    404769.000000   37433.000000"
      ]
     },
     "execution_count": 28,
     "metadata": {},
     "output_type": "execute_result"
    }
   ],
   "source": [
    "df_control_group.describe()"
   ]
  },
  {
   "cell_type": "code",
   "execution_count": 29,
   "metadata": {},
   "outputs": [
    {
     "data": {
      "text/plain": [
       "user_id      202103\n",
       "revenue         269\n",
       "testgroup         1\n",
       "dtype: int64"
      ]
     },
     "execution_count": 29,
     "metadata": {},
     "output_type": "execute_result"
    }
   ],
   "source": [
    "df_control_group.nunique()"
   ]
  },
  {
   "cell_type": "code",
   "execution_count": 30,
   "metadata": {},
   "outputs": [
    {
     "data": {
      "text/plain": [
       "0        200175\n",
       "206          18\n",
       "310          18\n",
       "265          17\n",
       "224          17\n",
       "          ...  \n",
       "37379         1\n",
       "37341         1\n",
       "37347         1\n",
       "37407         1\n",
       "37357         1\n",
       "Name: revenue, Length: 269, dtype: int64"
      ]
     },
     "execution_count": 30,
     "metadata": {},
     "output_type": "execute_result"
    }
   ],
   "source": [
    "df_control_group.revenue.value_counts()"
   ]
  },
  {
   "cell_type": "code",
   "execution_count": 31,
   "metadata": {},
   "outputs": [
    {
     "name": "stdout",
     "output_type": "stream",
     "text": [
      "<class 'pandas.core.frame.DataFrame'>\n",
      "Int64Index: 202103 entries, 1 to 404768\n",
      "Data columns (total 3 columns):\n",
      " #   Column     Non-Null Count   Dtype \n",
      "---  ------     --------------   ----- \n",
      " 0   user_id    202103 non-null  int64 \n",
      " 1   revenue    202103 non-null  int64 \n",
      " 2   testgroup  202103 non-null  object\n",
      "dtypes: int64(2), object(1)\n",
      "memory usage: 6.2+ MB\n"
     ]
    }
   ],
   "source": [
    "df_control_group.info()"
   ]
  },
  {
   "cell_type": "code",
   "execution_count": 32,
   "metadata": {},
   "outputs": [
    {
     "data": {
      "text/html": [
       "<div>\n",
       "<style scoped>\n",
       "    .dataframe tbody tr th:only-of-type {\n",
       "        vertical-align: middle;\n",
       "    }\n",
       "\n",
       "    .dataframe tbody tr th {\n",
       "        vertical-align: top;\n",
       "    }\n",
       "\n",
       "    .dataframe thead th {\n",
       "        text-align: right;\n",
       "    }\n",
       "</style>\n",
       "<table border=\"1\" class=\"dataframe\">\n",
       "  <thead>\n",
       "    <tr style=\"text-align: right;\">\n",
       "      <th></th>\n",
       "      <th>user_id</th>\n",
       "      <th>revenue</th>\n",
       "      <th>testgroup</th>\n",
       "    </tr>\n",
       "  </thead>\n",
       "  <tbody>\n",
       "    <tr>\n",
       "      <th>0</th>\n",
       "      <td>1</td>\n",
       "      <td>0</td>\n",
       "      <td>b</td>\n",
       "    </tr>\n",
       "    <tr>\n",
       "      <th>3</th>\n",
       "      <td>4</td>\n",
       "      <td>0</td>\n",
       "      <td>b</td>\n",
       "    </tr>\n",
       "    <tr>\n",
       "      <th>4</th>\n",
       "      <td>5</td>\n",
       "      <td>0</td>\n",
       "      <td>b</td>\n",
       "    </tr>\n",
       "    <tr>\n",
       "      <th>5</th>\n",
       "      <td>6</td>\n",
       "      <td>0</td>\n",
       "      <td>b</td>\n",
       "    </tr>\n",
       "    <tr>\n",
       "      <th>6</th>\n",
       "      <td>7</td>\n",
       "      <td>0</td>\n",
       "      <td>b</td>\n",
       "    </tr>\n",
       "  </tbody>\n",
       "</table>\n",
       "</div>"
      ],
      "text/plain": [
       "   user_id  revenue testgroup\n",
       "0        1        0         b\n",
       "3        4        0         b\n",
       "4        5        0         b\n",
       "5        6        0         b\n",
       "6        7        0         b"
      ]
     },
     "execution_count": 32,
     "metadata": {},
     "output_type": "execute_result"
    }
   ],
   "source": [
    "df_test_group.head()"
   ]
  },
  {
   "cell_type": "code",
   "execution_count": 33,
   "metadata": {},
   "outputs": [
    {
     "data": {
      "text/plain": [
       "(202667, 3)"
      ]
     },
     "execution_count": 33,
     "metadata": {},
     "output_type": "execute_result"
    }
   ],
   "source": [
    "df_test_group.shape"
   ]
  },
  {
   "cell_type": "code",
   "execution_count": 34,
   "metadata": {},
   "outputs": [
    {
     "data": {
      "text/plain": [
       "user_id       int64\n",
       "revenue       int64\n",
       "testgroup    object\n",
       "dtype: object"
      ]
     },
     "execution_count": 34,
     "metadata": {},
     "output_type": "execute_result"
    }
   ],
   "source": [
    "df_test_group.dtypes"
   ]
  },
  {
   "cell_type": "code",
   "execution_count": 35,
   "metadata": {},
   "outputs": [
    {
     "data": {
      "text/html": [
       "<div>\n",
       "<style scoped>\n",
       "    .dataframe tbody tr th:only-of-type {\n",
       "        vertical-align: middle;\n",
       "    }\n",
       "\n",
       "    .dataframe tbody tr th {\n",
       "        vertical-align: top;\n",
       "    }\n",
       "\n",
       "    .dataframe thead th {\n",
       "        text-align: right;\n",
       "    }\n",
       "</style>\n",
       "<table border=\"1\" class=\"dataframe\">\n",
       "  <thead>\n",
       "    <tr style=\"text-align: right;\">\n",
       "      <th></th>\n",
       "      <th>user_id</th>\n",
       "      <th>revenue</th>\n",
       "    </tr>\n",
       "  </thead>\n",
       "  <tbody>\n",
       "    <tr>\n",
       "      <th>count</th>\n",
       "      <td>202667.000000</td>\n",
       "      <td>202667.000000</td>\n",
       "    </tr>\n",
       "    <tr>\n",
       "      <th>mean</th>\n",
       "      <td>202215.564389</td>\n",
       "      <td>26.751287</td>\n",
       "    </tr>\n",
       "    <tr>\n",
       "      <th>std</th>\n",
       "      <td>116891.926690</td>\n",
       "      <td>287.324162</td>\n",
       "    </tr>\n",
       "    <tr>\n",
       "      <th>min</th>\n",
       "      <td>1.000000</td>\n",
       "      <td>0.000000</td>\n",
       "    </tr>\n",
       "    <tr>\n",
       "      <th>25%</th>\n",
       "      <td>100855.500000</td>\n",
       "      <td>0.000000</td>\n",
       "    </tr>\n",
       "    <tr>\n",
       "      <th>50%</th>\n",
       "      <td>201821.000000</td>\n",
       "      <td>0.000000</td>\n",
       "    </tr>\n",
       "    <tr>\n",
       "      <th>75%</th>\n",
       "      <td>303602.500000</td>\n",
       "      <td>0.000000</td>\n",
       "    </tr>\n",
       "    <tr>\n",
       "      <th>max</th>\n",
       "      <td>404770.000000</td>\n",
       "      <td>4000.000000</td>\n",
       "    </tr>\n",
       "  </tbody>\n",
       "</table>\n",
       "</div>"
      ],
      "text/plain": [
       "             user_id        revenue\n",
       "count  202667.000000  202667.000000\n",
       "mean   202215.564389      26.751287\n",
       "std    116891.926690     287.324162\n",
       "min         1.000000       0.000000\n",
       "25%    100855.500000       0.000000\n",
       "50%    201821.000000       0.000000\n",
       "75%    303602.500000       0.000000\n",
       "max    404770.000000    4000.000000"
      ]
     },
     "execution_count": 35,
     "metadata": {},
     "output_type": "execute_result"
    }
   ],
   "source": [
    "df_test_group.describe()"
   ]
  },
  {
   "cell_type": "code",
   "execution_count": 36,
   "metadata": {},
   "outputs": [
    {
     "data": {
      "text/plain": [
       "0       200862\n",
       "2003         6\n",
       "3359         5\n",
       "3367         4\n",
       "3410         4\n",
       "         ...  \n",
       "3150         1\n",
       "3022         1\n",
       "2894         1\n",
       "3535         1\n",
       "2114         1\n",
       "Name: revenue, Length: 1209, dtype: int64"
      ]
     },
     "execution_count": 36,
     "metadata": {},
     "output_type": "execute_result"
    }
   ],
   "source": [
    "df_test_group.revenue.value_counts()"
   ]
  },
  {
   "cell_type": "code",
   "execution_count": 37,
   "metadata": {},
   "outputs": [
    {
     "data": {
      "text/plain": [
       "user_id      202667\n",
       "revenue        1209\n",
       "testgroup         1\n",
       "dtype: int64"
      ]
     },
     "execution_count": 37,
     "metadata": {},
     "output_type": "execute_result"
    }
   ],
   "source": [
    "df_test_group.nunique()"
   ]
  },
  {
   "cell_type": "code",
   "execution_count": 38,
   "metadata": {},
   "outputs": [
    {
     "name": "stdout",
     "output_type": "stream",
     "text": [
      "<class 'pandas.core.frame.DataFrame'>\n",
      "Int64Index: 202667 entries, 0 to 404769\n",
      "Data columns (total 3 columns):\n",
      " #   Column     Non-Null Count   Dtype \n",
      "---  ------     --------------   ----- \n",
      " 0   user_id    202667 non-null  int64 \n",
      " 1   revenue    202667 non-null  int64 \n",
      " 2   testgroup  202667 non-null  object\n",
      "dtypes: int64(2), object(1)\n",
      "memory usage: 6.2+ MB\n"
     ]
    }
   ],
   "source": [
    "df_test_group.info()"
   ]
  },
  {
   "cell_type": "markdown",
   "metadata": {},
   "source": [
    "### Визуализируем данные, но отфильтруем тех, кто не совершил покупку:"
   ]
  },
  {
   "cell_type": "code",
   "execution_count": 39,
   "metadata": {},
   "outputs": [
    {
     "data": {
      "text/plain": [
       "<matplotlib.axes._subplots.AxesSubplot at 0x7f8f6b4850f0>"
      ]
     },
     "execution_count": 39,
     "metadata": {},
     "output_type": "execute_result"
    },
    {
     "data": {
      "image/png": "[encoded data removed]",
      "text/plain": [
       "<Figure size 864x432 with 1 Axes>"
      ]
     },
     "metadata": {},
     "output_type": "display_data"
    }
   ],
   "source": [
    "df_control_group.query('revenue > 0').revenue.hist()"
   ]
  },
  {
   "cell_type": "code",
   "execution_count": 40,
   "metadata": {},
   "outputs": [
    {
     "data": {
      "text/plain": [
       "<matplotlib.axes._subplots.AxesSubplot at 0x7f8f6b415dd8>"
      ]
     },
     "execution_count": 40,
     "metadata": {},
     "output_type": "execute_result"
    },
    {
     "data": {
      "image/png": "[encoded data removed]",
      "text/plain": [
       "<Figure size 864x432 with 1 Axes>"
      ]
     },
     "metadata": {},
     "output_type": "display_data"
    }
   ],
   "source": [
    "df_test_group.query('revenue > 0').revenue.hist()"
   ]
  },
  {
   "cell_type": "markdown",
   "metadata": {},
   "source": [
    "### Выводы по EDA:\n",
    "- в данных нет пропусков;\n",
    "- объем данных большой, но очень много людей, которые не совершили покупку;\n",
    "- распределния не соответсвтуют нормальным;\n",
    "- все id пользователей уникальны;\n",
    "- размах данных в группах сильно отличается, при этом среднее значение довольно близко."
   ]
  },
  {
   "cell_type": "markdown",
   "metadata": {},
   "source": [
    "### Проведем предварительные расчеты:"
   ]
  },
  {
   "cell_type": "markdown",
   "metadata": {},
   "source": [
    "**Посчитаем конверсию (CR) для каждой группы:**"
   ]
  },
  {
   "cell_type": "code",
   "execution_count": 41,
   "metadata": {},
   "outputs": [
    {
     "data": {
      "text/plain": [
       "1928"
      ]
     },
     "execution_count": 41,
     "metadata": {},
     "output_type": "execute_result"
    }
   ],
   "source": [
    "x, y = df_control_group.loc[df_control_group.revenue != 0].shape\n",
    "x  # количество платящих пользователей"
   ]
  },
  {
   "cell_type": "code",
   "execution_count": 42,
   "metadata": {},
   "outputs": [],
   "source": [
    "CR_control = round((x / len(df_control_group)) * 100, 2)"
   ]
  },
  {
   "cell_type": "code",
   "execution_count": 43,
   "metadata": {},
   "outputs": [
    {
     "data": {
      "text/plain": [
       "0.95"
      ]
     },
     "execution_count": 43,
     "metadata": {},
     "output_type": "execute_result"
    }
   ],
   "source": [
    "CR_control "
   ]
  },
  {
   "cell_type": "code",
   "execution_count": 44,
   "metadata": {},
   "outputs": [
    {
     "data": {
      "text/plain": [
       "1805"
      ]
     },
     "execution_count": 44,
     "metadata": {},
     "output_type": "execute_result"
    }
   ],
   "source": [
    "z, i = df_test_group.loc[df_test_group.revenue != 0].shape\n",
    "z  # количество платящих пользователей"
   ]
  },
  {
   "cell_type": "code",
   "execution_count": 45,
   "metadata": {},
   "outputs": [],
   "source": [
    "CR_test = round((z / len(df_test_group)) * 100, 2)"
   ]
  },
  {
   "cell_type": "code",
   "execution_count": 46,
   "metadata": {},
   "outputs": [
    {
     "data": {
      "text/plain": [
       "0.89"
      ]
     },
     "execution_count": 46,
     "metadata": {},
     "output_type": "execute_result"
    }
   ],
   "source": [
    "CR_test "
   ]
  },
  {
   "cell_type": "code",
   "execution_count": 47,
   "metadata": {},
   "outputs": [
    {
     "data": {
      "text/plain": [
       "6.0"
      ]
     },
     "execution_count": 47,
     "metadata": {},
     "output_type": "execute_result"
    }
   ],
   "source": [
    "round(((CR_control - CR_test) * 100), 2) # Разница конверсий, %"
   ]
  },
  {
   "cell_type": "markdown",
   "metadata": {},
   "source": [
    "**Посчитаем среднюю прибыль на привлеченного пользователя (ARPU) для каждой группы:**"
   ]
  },
  {
   "cell_type": "code",
   "execution_count": 48,
   "metadata": {},
   "outputs": [],
   "source": [
    "ARPU_control = round(df_control_group.revenue.mean(), 2)  "
   ]
  },
  {
   "cell_type": "code",
   "execution_count": 49,
   "metadata": {},
   "outputs": [
    {
     "data": {
      "text/plain": [
       "25.41"
      ]
     },
     "execution_count": 49,
     "metadata": {},
     "output_type": "execute_result"
    }
   ],
   "source": [
    "ARPU_control"
   ]
  },
  {
   "cell_type": "code",
   "execution_count": 50,
   "metadata": {},
   "outputs": [],
   "source": [
    "ARPU_test =  round(df_test_group.revenue.mean(), 2)  "
   ]
  },
  {
   "cell_type": "code",
   "execution_count": 51,
   "metadata": {},
   "outputs": [
    {
     "data": {
      "text/plain": [
       "26.75"
      ]
     },
     "execution_count": 51,
     "metadata": {},
     "output_type": "execute_result"
    }
   ],
   "source": [
    "ARPU_test"
   ]
  },
  {
   "cell_type": "code",
   "execution_count": 52,
   "metadata": {
    "scrolled": true
   },
   "outputs": [
    {
     "data": {
      "text/plain": [
       "5.26"
      ]
     },
     "execution_count": 52,
     "metadata": {},
     "output_type": "execute_result"
    }
   ],
   "source": [
    "round((((df_test_group.revenue.mean() / df_control_group.revenue.mean()) - 1) * 100), 2)  # разница в ARPU, %"
   ]
  },
  {
   "cell_type": "markdown",
   "metadata": {},
   "source": [
    "**Посчитаем среднюю прибыль на платящего пользователя (ARPPU) для каждой группы:**"
   ]
  },
  {
   "cell_type": "code",
   "execution_count": 53,
   "metadata": {},
   "outputs": [],
   "source": [
    "ARPPU_control = round(df_control_group.query('revenue > 0').revenue.mean(), 2)"
   ]
  },
  {
   "cell_type": "code",
   "execution_count": 54,
   "metadata": {},
   "outputs": [
    {
     "data": {
      "text/plain": [
       "2664.0"
      ]
     },
     "execution_count": 54,
     "metadata": {},
     "output_type": "execute_result"
    }
   ],
   "source": [
    "ARPPU_control"
   ]
  },
  {
   "cell_type": "code",
   "execution_count": 55,
   "metadata": {},
   "outputs": [],
   "source": [
    "ARPPU_test = round(df_test_group.query('revenue > 0').revenue.mean(), 2)  "
   ]
  },
  {
   "cell_type": "code",
   "execution_count": 56,
   "metadata": {},
   "outputs": [
    {
     "data": {
      "text/plain": [
       "26.75"
      ]
     },
     "execution_count": 56,
     "metadata": {},
     "output_type": "execute_result"
    }
   ],
   "source": [
    "ARPU_test"
   ]
  },
  {
   "cell_type": "code",
   "execution_count": 57,
   "metadata": {},
   "outputs": [
    {
     "data": {
      "text/plain": [
       "12.75"
      ]
     },
     "execution_count": 57,
     "metadata": {},
     "output_type": "execute_result"
    }
   ],
   "source": [
    "round((((df_test_group.query('revenue > 0').revenue.mean() / df_control_group.query('revenue > 0').revenue.mean()) - 1) * 100), 2)  \n",
    "# разница в ARPPU, %"
   ]
  },
  {
   "cell_type": "markdown",
   "metadata": {},
   "source": [
    "### Выводы по предварительным рассчетам:\n",
    "- конверсия снизилась на 6%;\n",
    "- ARPU увеличилась на 5,26%;\n",
    "- ARPPU увеличилась на 12.75%."
   ]
  },
  {
   "cell_type": "markdown",
   "metadata": {},
   "source": [
    "### Выбор метрики для анализа\n",
    "\n",
    "Исходя из обработки данных, представленных выше. Чтобы проверить алгоритмы подбора акционных предложений будем использовать метрики:\n",
    "- **Ключевые метрики** - средний доход на одного пользователя (ARPU), средний доход на платящего пользователя (ARPPU)\n",
    "\n",
    "Для исследования будем использовать распеределние **Revenue**. Сравнивать будем средние значения. Распределния не соответсвует нормальному, очень много неплатящих пользователей, но данных огромное количество и в этом случае будем использовать **T-тест** с параметром **equal_var = False**.\n",
    "- **Дополнительная метрика** - Конверсия (CR)\n",
    "\n",
    "Будем использовать критерий **Хи-квадрат**, введем категориальные переменные вида да/нет и проведем статистический тест этих переменных.\n"
   ]
  },
  {
   "cell_type": "markdown",
   "metadata": {},
   "source": [
    "### Конверсия\n",
    "\n",
    "подготовим данные для проведения статистического теста:"
   ]
  },
  {
   "cell_type": "code",
   "execution_count": 58,
   "metadata": {},
   "outputs": [],
   "source": [
    "df_data['CR'] = df_data['revenue'].apply(lambda x: 'Да' if x > 0 else 'нет')  # добавим категориальные переменные"
   ]
  },
  {
   "cell_type": "code",
   "execution_count": 59,
   "metadata": {},
   "outputs": [
    {
     "data": {
      "text/html": [
       "<div>\n",
       "<style scoped>\n",
       "    .dataframe tbody tr th:only-of-type {\n",
       "        vertical-align: middle;\n",
       "    }\n",
       "\n",
       "    .dataframe tbody tr th {\n",
       "        vertical-align: top;\n",
       "    }\n",
       "\n",
       "    .dataframe thead th {\n",
       "        text-align: right;\n",
       "    }\n",
       "</style>\n",
       "<table border=\"1\" class=\"dataframe\">\n",
       "  <thead>\n",
       "    <tr style=\"text-align: right;\">\n",
       "      <th></th>\n",
       "      <th>user_id</th>\n",
       "      <th>revenue</th>\n",
       "      <th>testgroup</th>\n",
       "      <th>CR</th>\n",
       "    </tr>\n",
       "  </thead>\n",
       "  <tbody>\n",
       "    <tr>\n",
       "      <th>0</th>\n",
       "      <td>1</td>\n",
       "      <td>0</td>\n",
       "      <td>b</td>\n",
       "      <td>нет</td>\n",
       "    </tr>\n",
       "    <tr>\n",
       "      <th>1</th>\n",
       "      <td>2</td>\n",
       "      <td>0</td>\n",
       "      <td>a</td>\n",
       "      <td>нет</td>\n",
       "    </tr>\n",
       "    <tr>\n",
       "      <th>2</th>\n",
       "      <td>3</td>\n",
       "      <td>0</td>\n",
       "      <td>a</td>\n",
       "      <td>нет</td>\n",
       "    </tr>\n",
       "    <tr>\n",
       "      <th>3</th>\n",
       "      <td>4</td>\n",
       "      <td>0</td>\n",
       "      <td>b</td>\n",
       "      <td>нет</td>\n",
       "    </tr>\n",
       "    <tr>\n",
       "      <th>4</th>\n",
       "      <td>5</td>\n",
       "      <td>0</td>\n",
       "      <td>b</td>\n",
       "      <td>нет</td>\n",
       "    </tr>\n",
       "  </tbody>\n",
       "</table>\n",
       "</div>"
      ],
      "text/plain": [
       "   user_id  revenue testgroup   CR\n",
       "0        1        0         b  нет\n",
       "1        2        0         a  нет\n",
       "2        3        0         a  нет\n",
       "3        4        0         b  нет\n",
       "4        5        0         b  нет"
      ]
     },
     "execution_count": 59,
     "metadata": {},
     "output_type": "execute_result"
    }
   ],
   "source": [
    "df_data.head()"
   ]
  },
  {
   "cell_type": "code",
   "execution_count": 60,
   "metadata": {},
   "outputs": [],
   "source": [
    "for_hi = pd.crosstab(df_data.CR, df_data.testgroup)  # таблица для проведения теста "
   ]
  },
  {
   "cell_type": "code",
   "execution_count": 61,
   "metadata": {},
   "outputs": [
    {
     "data": {
      "text/html": [
       "<div>\n",
       "<style scoped>\n",
       "    .dataframe tbody tr th:only-of-type {\n",
       "        vertical-align: middle;\n",
       "    }\n",
       "\n",
       "    .dataframe tbody tr th {\n",
       "        vertical-align: top;\n",
       "    }\n",
       "\n",
       "    .dataframe thead th {\n",
       "        text-align: right;\n",
       "    }\n",
       "</style>\n",
       "<table border=\"1\" class=\"dataframe\">\n",
       "  <thead>\n",
       "    <tr style=\"text-align: right;\">\n",
       "      <th>testgroup</th>\n",
       "      <th>a</th>\n",
       "      <th>b</th>\n",
       "    </tr>\n",
       "    <tr>\n",
       "      <th>CR</th>\n",
       "      <th></th>\n",
       "      <th></th>\n",
       "    </tr>\n",
       "  </thead>\n",
       "  <tbody>\n",
       "    <tr>\n",
       "      <th>Да</th>\n",
       "      <td>1928</td>\n",
       "      <td>1805</td>\n",
       "    </tr>\n",
       "    <tr>\n",
       "      <th>нет</th>\n",
       "      <td>200175</td>\n",
       "      <td>200862</td>\n",
       "    </tr>\n",
       "  </tbody>\n",
       "</table>\n",
       "</div>"
      ],
      "text/plain": [
       "testgroup       a       b\n",
       "CR                       \n",
       "Да           1928    1805\n",
       "нет        200175  200862"
      ]
     },
     "execution_count": 61,
     "metadata": {},
     "output_type": "execute_result"
    }
   ],
   "source": [
    "for_hi"
   ]
  },
  {
   "cell_type": "markdown",
   "metadata": {},
   "source": [
    "### Определим нулевую и альтернативную гипотезу:\n",
    "- $H_0$: снижение конверсии не значимо статистически (взаимосвязи нет)\n",
    "- $H_1$: снижение конверсии значимо (взамосвязь есть)\n",
    "\n",
    "Проводим статистический тест **Хи-квадрат**:"
   ]
  },
  {
   "cell_type": "code",
   "execution_count": 62,
   "metadata": {},
   "outputs": [],
   "source": [
    "stat, p_1, dof, expected = ss.chi2_contingency(for_hi)"
   ]
  },
  {
   "cell_type": "code",
   "execution_count": 63,
   "metadata": {},
   "outputs": [
    {
     "name": "stdout",
     "output_type": "stream",
     "text": [
      "P value = 0.0365\n"
     ]
    }
   ],
   "source": [
    "print(f'P value = {round(p_1, 4)}')"
   ]
  },
  {
   "cell_type": "markdown",
   "metadata": {},
   "source": [
    "### Вывод по исследованию метрики - Конверсия:\n",
    "После проведения теста получаем **P value < 0,05**. Мы имеем основания отклонить нулевую гипотезу и принять альтернативную. Приходим к выводу, что снижение конверсии на 6% имеет статистическую значимость."
   ]
  },
  {
   "cell_type": "markdown",
   "metadata": {},
   "source": [
    "### Cредний доход на одного пользователя (ARPU):"
   ]
  },
  {
   "cell_type": "markdown",
   "metadata": {},
   "source": [
    "### Определим нулевую и альтернативную гипотезу:\n",
    "- $H_0$: увеличение показателя ARPU не значимо статистически (взаимосвязи нет)\n",
    "- $H_1$: увеличение показателя ARPU значимо (взамосвязь есть)\n",
    "\n",
    "Проводим **T-тест**:"
   ]
  },
  {
   "cell_type": "code",
   "execution_count": 64,
   "metadata": {},
   "outputs": [],
   "source": [
    "s, p_2 = ss.ttest_ind(df_control_group.revenue, df_test_group.revenue, equal_var=False)"
   ]
  },
  {
   "cell_type": "code",
   "execution_count": 65,
   "metadata": {},
   "outputs": [
    {
     "name": "stdout",
     "output_type": "stream",
     "text": [
      "P value = 0.53\n"
     ]
    }
   ],
   "source": [
    "print(f'P value = {round(p_2, 2)}')"
   ]
  },
  {
   "cell_type": "markdown",
   "metadata": {},
   "source": [
    "### Вывод по исследованию метрики -  ARPU:\n",
    "После проведения теста получаем **P value > 0,05**. Не имеем оснований отклонить нулевую гипотезу и принять альтернативную. Приходим к выводу, что увеличение показателя ARPU на 5,26% не имеет статистической значимости."
   ]
  },
  {
   "cell_type": "markdown",
   "metadata": {},
   "source": [
    "### Cредний доход на платящего пользователя (ARPPU):"
   ]
  },
  {
   "cell_type": "markdown",
   "metadata": {},
   "source": [
    "### Определим нулевую и альтернативную гипотезу:\n",
    "- $H_0$: увеличение показателя ARPPU не значимо статистически (взаимосвязи нет)\n",
    "- $H_1$: увеличение показателя ARPPU значимо (взамосвязь есть)\n",
    "\n",
    "Проводим **T-тест**:"
   ]
  },
  {
   "cell_type": "code",
   "execution_count": 66,
   "metadata": {},
   "outputs": [],
   "source": [
    "s, p_3 = ss.ttest_ind(df_control_group.query('revenue > 0').revenue, \n",
    "                      df_test_group.query('revenue > 0').revenue, equal_var=False)"
   ]
  },
  {
   "cell_type": "code",
   "execution_count": 67,
   "metadata": {},
   "outputs": [
    {
     "name": "stdout",
     "output_type": "stream",
     "text": [
      "P value = 0.1\n"
     ]
    }
   ],
   "source": [
    "print(f'P value = {round(p_3, 2)}')"
   ]
  },
  {
   "cell_type": "markdown",
   "metadata": {},
   "source": [
    "### Вывод по исследованию метрики -  ARPPU:\n",
    "После проведения теста получаем **P value > 0,05**. Не имеем оснований отклонить нулевую гипотезу и принять альтернативную. Приходим к выводу, что увеличение показателя ARPPU на 12.75% не имеет статистической значимости."
   ]
  },
  {
   "cell_type": "markdown",
   "metadata": {},
   "source": [
    "### Общий вывод по заданию 2:\n",
    "\n",
    "После проведения анализа данных и исследования статистической значимости выбранных метрик можно сделать следующие заключения:\n",
    "- конверсия статистически значимо уменьшилась на 6%;\n",
    "- увеличение позателя ARPU на 5.26% статистически не значимо.\n",
    "- увеличение позателя ARPPU на 12.75% статистически не значимо.\n",
    "\n",
    "Отвечая на поставленный вопрос о том, какой набор предложений можно считать лучшим, стоит принять во внимание один очень важный момент. При проведении А/B тестирования в контрольную группу попали пользователи, которые потратили сильно больше денег, чем остальные. Это оказало сильное повлияние на среднее значение дохода в данной группе. Различие средних значений по Т-тесту не показало статистически значимых отличий. Осмелюсь предположить, что если бы пользователи с высокими значениями **Revenue** отсутствовали, различия были бы значимы. Поэтому по результатам этого конкретного тестирования выбирать лучший набор предложений, с точки зрения ключевых метрик - **ARPU**/**ARPPU**, <u>**не стоит**</u>.\n",
    "С точки зрения **конверсии (CR)** лучшим выбором является первый вариант акционных предложений, в контрольной группе.\n",
    "\n",
    "\n",
    "**Считаю необходимым провести аналогичный A/B тест. Затем повторить анализ данных и исследовать статистическую значимость.**"
   ]
  },
  {
   "cell_type": "markdown",
   "metadata": {},
   "source": [
    "### Задание 3\n",
    "В игре Plants & Gardens каждый месяц проводятся тематические события, ограниченные по времени. В них игроки могут получить уникальные предметы для сада и персонажей, дополнительные монеты или бонусы. Для получения награды требуется пройти ряд уровней за определенное время. С помощью каких метрик можно оценить результаты последнего прошедшего события?\n",
    "\n",
    "Предположим, в другом событии мы усложнили механику событий так, что при каждой неудачной попытке выполнения уровня игрок будет откатываться на несколько уровней назад. Изменится ли набор метрик оценки результата? Если да, то как?\n",
    "\n",
    " "
   ]
  },
  {
   "cell_type": "markdown",
   "metadata": {},
   "source": [
    "### Базовые метрики:\n",
    "С помощью этих метрик мы можем оценить эффетивность продукта.\n",
    "- **LTV**\n",
    "\n",
    "Отражение общей суммы денег, которую пользователь тратит во время текущего события в игре. Эту метрику важно рассматривать в сравнении CPI, потому что зарабатывать на своих пользователях нужно больше, чем тратить на их привлечение.\n",
    "\n",
    "- **CPI**\n",
    "\n",
    "Через CPI можно определить эффективность события в игре. Если на графике появился резкий подъем, то это означает, что тематическое событие имеет успех.\n",
    "\n",
    "- **ARPU/ARPPU**\n",
    "\n",
    "Соотношение ARPPU и ARPU показывает отношение платящих пользователей к ценовой политике и качеству события. \n",
    " \n",
    " - **Average Session Duration**\n",
    " \n",
    "С помощью этой метрики можно оценить продолжительность сессии пользователей в тематическом событии.\n",
    "\n",
    "- **Installs**\n",
    "\n",
    "Количество установок приложения. Побуждение людей устанавливать приложение во время события.\n",
    "\n",
    "- **CR** \n",
    "\n",
    "Конверсия в покупку, отследить как влияет событие на целевое действие пользователя.\n",
    "### Дополнительные метрики:\n",
    "Эти метрики помогут оценить поведение пользователей во время события.\n",
    "- **Stickiness rate**\n",
    "\n",
    "Регулярность использования приложения в течение события. Отражает \"залипательность\", чем чаще заходят в игру, тем лучше действие события.\n",
    "\n",
    "- **Retention rate**\n",
    "\n",
    "Определим, возвращаются ли пользователи в игру при проведение тематического события.\n",
    "\n",
    "### Метрики при усложненной механике:\n",
    "Усложнение механик игры может привести к большому оттоку пользователей, так как в наше время люди больше отдают предпочтение \"простым\" играм, где можно расслабиться, повеселиться. В этом случае можно использовать метрики указанные выше. За исключением Retention rate, ее я бы заменил на Churn rate.\n",
    "\n",
    "- **Churn rate**\n",
    "\n",
    "Оценка оттока пользователей. Усложнение механики игры - это риск потерять пользователя из-за выросшей сложности."
   ]
  },
  {
   "cell_type": "markdown",
   "metadata": {},
   "source": [
    "\n"
   ]
  }
 ],
 "metadata": {
  "kernelspec": {
   "display_name": "Python 3",
   "language": "python",
   "name": "python3"
  },
  "language_info": {
   "codemirror_mode": {
    "name": "ipython",
    "version": 3
   },
   "file_extension": ".py",
   "mimetype": "text/x-python",
   "name": "python",
   "nbconvert_exporter": "python",
   "pygments_lexer": "ipython3",
   "version": "3.7.3"
  }
 },
 "nbformat": 4,
 "nbformat_minor": 4
}
